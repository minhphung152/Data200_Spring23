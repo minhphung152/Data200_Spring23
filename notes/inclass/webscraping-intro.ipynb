{
 "cells": [
  {
   "cell_type": "code",
   "execution_count": 8,
   "id": "4a59bef3",
   "metadata": {},
   "outputs": [],
   "source": [
    "import pandas as pd\n",
    "import time\n",
    "import random\n",
    "from selenium import webdriver"
   ]
  },
  {
   "cell_type": "code",
   "execution_count": 9,
   "id": "5aa6c645",
   "metadata": {},
   "outputs": [
    {
     "name": "stderr",
     "output_type": "stream",
     "text": [
      "/var/folders/cx/rmycmzb94blbhzklstnxrkyc0000gn/T/ipykernel_5811/945898347.py:1: DeprecationWarning: executable_path has been deprecated, please pass in a Service object\n",
      "  driver = webdriver.Chrome('/Users/eren/Downloads/chromedriver')\n"
     ]
    }
   ],
   "source": [
    "driver = webdriver.Chrome('/Users/eren/Downloads/chromedriver')"
   ]
  },
  {
   "cell_type": "code",
   "execution_count": 10,
   "id": "a1435c01",
   "metadata": {},
   "outputs": [],
   "source": [
    "driver.get('https://forums.edmunds.com/discussion/2864')"
   ]
  },
  {
   "cell_type": "code",
   "execution_count": 11,
   "id": "b4d7b01f",
   "metadata": {},
   "outputs": [],
   "source": [
    "userid_element = driver.find_element('xpath','//*[@id=\"Comment_1726631\"]/div/div[2]/div[1]/span[1]/a[2]')"
   ]
  },
  {
   "cell_type": "code",
   "execution_count": 14,
   "id": "aba06f4e",
   "metadata": {},
   "outputs": [
    {
     "data": {
      "text/plain": [
       "'merc1'"
      ]
     },
     "execution_count": 14,
     "metadata": {},
     "output_type": "execute_result"
    }
   ],
   "source": [
    "userid = userid_element.text\n",
    "userid"
   ]
  },
  {
   "cell_type": "code",
   "execution_count": null,
   "id": "49816b2e",
   "metadata": {},
   "outputs": [],
   "source": []
  }
 ],
 "metadata": {
  "kernelspec": {
   "display_name": "Python 3 (ipykernel)",
   "language": "python",
   "name": "python3"
  },
  "language_info": {
   "codemirror_mode": {
    "name": "ipython",
    "version": 3
   },
   "file_extension": ".py",
   "mimetype": "text/x-python",
   "name": "python",
   "nbconvert_exporter": "python",
   "pygments_lexer": "ipython3",
   "version": "3.10.9"
  }
 },
 "nbformat": 4,
 "nbformat_minor": 5
}
