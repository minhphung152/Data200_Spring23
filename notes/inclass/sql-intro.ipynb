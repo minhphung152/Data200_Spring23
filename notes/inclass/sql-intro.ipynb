{
 "cells": [
  {
   "cell_type": "code",
   "execution_count": null,
   "id": "9dad8e52",
   "metadata": {},
   "outputs": [],
   "source": [
    "! pip install ipython-sql"
   ]
  },
  {
   "cell_type": "code",
   "execution_count": 1,
   "id": "4fe11bb5",
   "metadata": {},
   "outputs": [],
   "source": [
    "%load_ext sql"
   ]
  },
  {
   "cell_type": "code",
   "execution_count": 2,
   "id": "1657f294",
   "metadata": {},
   "outputs": [],
   "source": [
    "%sql sqlite:///C:\\Users\\bilene\\book.db"
   ]
  },
  {
   "cell_type": "code",
   "execution_count": null,
   "id": "314774a6",
   "metadata": {},
   "outputs": [],
   "source": [
    "output = %sql SELECT pop FROM indicators0"
   ]
  },
  {
   "cell_type": "code",
   "execution_count": null,
   "id": "25cc31b0",
   "metadata": {},
   "outputs": [],
   "source": [
    "import pandas as pd\n",
    "pd.DataFrame(output,columns=['pop'])"
   ]
  },
  {
   "cell_type": "code",
   "execution_count": null,
   "id": "16723343",
   "metadata": {},
   "outputs": [],
   "source": [
    "%%sql \n",
    "output2 <<\n",
    "SELECT pop \n",
    "FROM indicators0"
   ]
  },
  {
   "cell_type": "code",
   "execution_count": null,
   "id": "d462d03f",
   "metadata": {},
   "outputs": [],
   "source": [
    "output2"
   ]
  },
  {
   "cell_type": "code",
   "execution_count": null,
   "id": "516c27f6",
   "metadata": {},
   "outputs": [],
   "source": [
    "%%sql\n",
    "SELECT name FROM topnames\n",
    "LIMIT 5"
   ]
  },
  {
   "cell_type": "code",
   "execution_count": null,
   "id": "d5ea70eb",
   "metadata": {},
   "outputs": [],
   "source": [
    "%%sql\n",
    "SELECT year, name, sex FROM topnames\n",
    "LIMIT 5"
   ]
  },
  {
   "cell_type": "code",
   "execution_count": null,
   "id": "0c3f14c6",
   "metadata": {},
   "outputs": [],
   "source": [
    "%%sql\n",
    "SELECT year AS Year, name, sex FROM topnames\n",
    "LIMIT 5"
   ]
  },
  {
   "cell_type": "code",
   "execution_count": null,
   "id": "3d114dfa",
   "metadata": {},
   "outputs": [],
   "source": [
    "%%sql\n",
    "SELECT * FROM topnames\n",
    "LIMIT 5"
   ]
  },
  {
   "cell_type": "code",
   "execution_count": null,
   "id": "22a2813b",
   "metadata": {},
   "outputs": [],
   "source": [
    "%%sql\n",
    "-- Here is a one line comment\n",
    "/* Here is a multi line comment\n",
    " Another one */\n",
    "    \n",
    "-- The following returns all tables that exist\n",
    "-- in the database\n",
    "SELECT name FROM sqlite_master WHERE type='table'"
   ]
  },
  {
   "cell_type": "code",
   "execution_count": null,
   "id": "a91045e3",
   "metadata": {},
   "outputs": [],
   "source": [
    "%%sql\n",
    "-- Row filtering\n",
    "SELECT * FROM indicators \n",
    "WHERE year>=2000\n",
    "LIMIT 10"
   ]
  },
  {
   "cell_type": "code",
   "execution_count": null,
   "id": "022cc571",
   "metadata": {},
   "outputs": [],
   "source": [
    "%%sql\n",
    "SELECT * FROM indicators \n",
    "WHERE pop > 1000 AND life > 60\n",
    "LIMIT 10"
   ]
  },
  {
   "cell_type": "code",
   "execution_count": null,
   "id": "813012e2",
   "metadata": {},
   "outputs": [],
   "source": [
    "%%sql\n",
    "SELECT * FROM countries\n",
    "LIMIT 10"
   ]
  },
  {
   "cell_type": "code",
   "execution_count": null,
   "id": "343ddf86",
   "metadata": {},
   "outputs": [],
   "source": [
    "%%sql\n",
    "-- Return only high income countries\n",
    "SELECT * FROM countries\n",
    "WHERE income = 'High income'\n",
    "LIMIT 5"
   ]
  },
  {
   "cell_type": "code",
   "execution_count": null,
   "id": "64a7b67c",
   "metadata": {},
   "outputs": [],
   "source": [
    "%%sql\n",
    "-- Return rows where baby name is not John\n",
    "-- In pandas: name != 'John'\n",
    "SELECT name, sex FROM topnames\n",
    "WHERE name <> 'John'\n",
    "-- keep in mind this still works: WHERE name != 'John'\n",
    "LIMIT 5"
   ]
  },
  {
   "cell_type": "code",
   "execution_count": null,
   "id": "3a464100",
   "metadata": {},
   "outputs": [],
   "source": [
    "%%sql\n",
    "SELECT * FROM countries\n",
    "LIMIT 5"
   ]
  },
  {
   "cell_type": "code",
   "execution_count": null,
   "id": "b8e23f44",
   "metadata": {},
   "outputs": [],
   "source": [
    "%%sql\n",
    "-- Return countries with land > 10000 and the country must be either\n",
    "-- High income, or Upper middle income\n",
    "\n",
    "SELECT * FROM countries\n",
    "WHERE (land>10000) AND (income='High income' OR income='Upper middle income')\n",
    "LIMIT 5"
   ]
  },
  {
   "cell_type": "code",
   "execution_count": null,
   "id": "b0bf548d",
   "metadata": {},
   "outputs": [],
   "source": [
    "%%sql\n",
    "-- Filter intervals\n",
    "SELECT * FROM indicators\n",
    "WHERE life BETWEEN 65 AND 75\n",
    "LIMIT 5"
   ]
  },
  {
   "cell_type": "code",
   "execution_count": null,
   "id": "f35a171b",
   "metadata": {},
   "outputs": [],
   "source": [
    "%%sql\n",
    "-- Return where year is 2017 and countries with code\n",
    "-- CHN, IND, FRA, USA\n",
    "SELECT * FROM indicators\n",
    "WHERE year = 2017 AND code IN ('CHN','IND','FRA','USA')\n",
    "LIMIT 5"
   ]
  },
  {
   "cell_type": "code",
   "execution_count": null,
   "id": "ba968170",
   "metadata": {},
   "outputs": [],
   "source": [
    "%%sql\n",
    "-- Wildcard, %\n",
    "-- Return countries whose names start with \"United\"\n",
    "SELECT * FROM countries\n",
    "WHERE country LIKE 'United%'\n",
    "LIMIT 5"
   ]
  },
  {
   "cell_type": "code",
   "execution_count": null,
   "id": "66eabba9",
   "metadata": {},
   "outputs": [],
   "source": [
    "%%sql\n",
    "-- Wildcard\n",
    "-- Return back countries whose names start with A and end with a\n",
    "SELECT * FROM countries\n",
    "WHERE country LIKE 'A%a'\n",
    "LIMIT 10"
   ]
  },
  {
   "cell_type": "code",
   "execution_count": null,
   "id": "08aba2a2",
   "metadata": {},
   "outputs": [],
   "source": [
    "%%sql\n",
    "-- Return back the countries whose code ends with \"ZA\"\n",
    "-- forces the output \"code\" to have three characters\n",
    "SELECT * FROM countries\n",
    "WHERE code LIKE '_ZA'"
   ]
  },
  {
   "cell_type": "code",
   "execution_count": null,
   "id": "5fd5482b",
   "metadata": {
    "scrolled": true
   },
   "outputs": [],
   "source": [
    "%%sql\n",
    "-- Return back the countries whose code ends with \"A\"\n",
    "-- force the output \"code\" to have three characters\n",
    "SELECT * FROM countries\n",
    "WHERE code LIKE \"__A\"\n",
    "LIMIT 10"
   ]
  },
  {
   "cell_type": "code",
   "execution_count": null,
   "id": "ccd97734",
   "metadata": {},
   "outputs": [],
   "source": [
    "%%sql\n",
    "-- return back non-missing values based on a column\n",
    "SELECT * FROM countries\n",
    "WHERE land IS NOT NULL\n",
    "LIMIT 50"
   ]
  },
  {
   "cell_type": "code",
   "execution_count": null,
   "id": "3a0840cb",
   "metadata": {},
   "outputs": [],
   "source": [
    "%%sql\n",
    "-- return back missing values based on a column\n",
    "SELECT * FROM countries\n",
    "WHERE land IS NULL\n",
    "LIMIT 50"
   ]
  },
  {
   "cell_type": "code",
   "execution_count": null,
   "id": "0ad62d1e",
   "metadata": {},
   "outputs": [],
   "source": [
    "%%sql\n",
    "-- Create a new column called \"newpop\" that equals pop*1.15 in\n",
    "-- the table indicators0\n",
    "-- round the fractions\n",
    "SELECT *, ROUND(pop*1.15,2) AS newpop FROM indicators0\n",
    "LIMIT 5"
   ]
  },
  {
   "cell_type": "code",
   "execution_count": null,
   "id": "c77df02c",
   "metadata": {},
   "outputs": [],
   "source": [
    "%%sql\n",
    "-- create an indicator variable (dummy variable, binary variable)\n",
    "-- that equals 1 if life > 75, 0 otherwise.\n",
    "SELECT *, life>75 AS longlife FROM indicators0\n",
    "LIMIT 5"
   ]
  },
  {
   "cell_type": "code",
   "execution_count": null,
   "id": "dbfa8180",
   "metadata": {},
   "outputs": [],
   "source": [
    "'word1' + ' ' + 'word2'"
   ]
  },
  {
   "cell_type": "code",
   "execution_count": null,
   "id": "a43195bd",
   "metadata": {},
   "outputs": [],
   "source": [
    "%%sql\n",
    "-- create a new column called country2 that has the following\n",
    "-- format 'Countryname (3digitcode)'\n",
    "-- || in sql is equivalent to + in python\n",
    "SELECT *, country || ' (' || code || ')' AS country2 FROM countries\n",
    "LIMIT 5"
   ]
  },
  {
   "cell_type": "code",
   "execution_count": 4,
   "id": "3a4d6d8f",
   "metadata": {},
   "outputs": [
    {
     "name": "stdout",
     "output_type": "stream",
     "text": [
      " * sqlite:///C:\\Users\\bilene\\book.db\n",
      "Done.\n"
     ]
    },
    {
     "data": {
      "text/html": [
       "<table>\n",
       "    <thead>\n",
       "        <tr>\n",
       "            <th>total</th>\n",
       "        </tr>\n",
       "    </thead>\n",
       "    <tbody>\n",
       "        <tr>\n",
       "            <td>217</td>\n",
       "        </tr>\n",
       "    </tbody>\n",
       "</table>"
      ],
      "text/plain": [
       "[(217,)]"
      ]
     },
     "execution_count": 4,
     "metadata": {},
     "output_type": "execute_result"
    }
   ],
   "source": [
    "%%sql\n",
    "-- COUNT function counts all values\n",
    "-- countries table has 217 observations\n",
    "SELECT COUNT(*) AS total FROM countries"
   ]
  },
  {
   "cell_type": "code",
   "execution_count": 5,
   "id": "7e4083d6",
   "metadata": {},
   "outputs": [
    {
     "name": "stdout",
     "output_type": "stream",
     "text": [
      " * sqlite:///C:\\Users\\bilene\\book.db\n",
      "Done.\n"
     ]
    },
    {
     "data": {
      "text/html": [
       "<table>\n",
       "    <thead>\n",
       "        <tr>\n",
       "            <th>missing_land</th>\n",
       "        </tr>\n",
       "    </thead>\n",
       "    <tbody>\n",
       "        <tr>\n",
       "            <td>7</td>\n",
       "        </tr>\n",
       "    </tbody>\n",
       "</table>"
      ],
      "text/plain": [
       "[(7,)]"
      ]
     },
     "execution_count": 5,
     "metadata": {},
     "output_type": "execute_result"
    }
   ],
   "source": [
    "%%sql\n",
    "-- COUNT function counts all values\n",
    "-- countries table has 7 missing rows for 'land'\n",
    "SELECT COUNT(*) AS missing_land FROM countries\n",
    "WHERE land IS NULL"
   ]
  },
  {
   "cell_type": "code",
   "execution_count": 6,
   "id": "57d2ef7e",
   "metadata": {},
   "outputs": [
    {
     "name": "stdout",
     "output_type": "stream",
     "text": [
      " * sqlite:///C:\\Users\\bilene\\book.db\n",
      "Done.\n"
     ]
    },
    {
     "data": {
      "text/html": [
       "<table>\n",
       "    <thead>\n",
       "        <tr>\n",
       "            <th>total</th>\n",
       "            <th>missing_land</th>\n",
       "        </tr>\n",
       "    </thead>\n",
       "    <tbody>\n",
       "        <tr>\n",
       "            <td>217</td>\n",
       "            <td>7</td>\n",
       "        </tr>\n",
       "    </tbody>\n",
       "</table>"
      ],
      "text/plain": [
       "[(217, 7)]"
      ]
     },
     "execution_count": 6,
     "metadata": {},
     "output_type": "execute_result"
    }
   ],
   "source": [
    "%%sql\n",
    "-- put the two numbers side by side\n",
    "-- an example of a nested sql queries\n",
    "SELECT COUNT(*) AS total,\n",
    "(SELECT COUNT(*) FROM countries\n",
    "WHERE land IS NULL) AS missing_land\n",
    "FROM countries"
   ]
  },
  {
   "cell_type": "code",
   "execution_count": 11,
   "id": "5e75ea2d",
   "metadata": {},
   "outputs": [
    {
     "name": "stdout",
     "output_type": "stream",
     "text": [
      " * sqlite:///C:\\Users\\bilene\\book.db\n",
      "Done.\n"
     ]
    },
    {
     "data": {
      "text/html": [
       "<table>\n",
       "    <thead>\n",
       "        <tr>\n",
       "            <th>unique_babynames</th>\n",
       "        </tr>\n",
       "    </thead>\n",
       "    <tbody>\n",
       "        <tr>\n",
       "            <td>18</td>\n",
       "        </tr>\n",
       "    </tbody>\n",
       "</table>"
      ],
      "text/plain": [
       "[(18,)]"
      ]
     },
     "execution_count": 11,
     "metadata": {},
     "output_type": "execute_result"
    }
   ],
   "source": [
    "%%sql\n",
    "-- count the number of unique names inside the topnames table\n",
    "-- change the column name to unique_babynames\n",
    "SELECT COUNT(DISTINCT name) AS unique_babynames FROM topnames"
   ]
  },
  {
   "cell_type": "code",
   "execution_count": 12,
   "id": "d36eff28",
   "metadata": {},
   "outputs": [
    {
     "name": "stdout",
     "output_type": "stream",
     "text": [
      " * sqlite:///C:\\Users\\bilene\\book.db\n",
      "Done.\n"
     ]
    },
    {
     "data": {
      "text/html": [
       "<table>\n",
       "    <thead>\n",
       "        <tr>\n",
       "            <th>code</th>\n",
       "            <th>pop</th>\n",
       "            <th>gdp</th>\n",
       "            <th>life</th>\n",
       "            <th>cell</th>\n",
       "        </tr>\n",
       "    </thead>\n",
       "    <tbody>\n",
       "        <tr>\n",
       "            <td>CHN</td>\n",
       "            <td>1386.4</td>\n",
       "            <td>12143.5</td>\n",
       "            <td>76.4</td>\n",
       "            <td>1469.88</td>\n",
       "        </tr>\n",
       "        <tr>\n",
       "            <td>FRA</td>\n",
       "            <td>66.87</td>\n",
       "            <td>2586.29</td>\n",
       "            <td>82.5</td>\n",
       "            <td>69.02</td>\n",
       "        </tr>\n",
       "        <tr>\n",
       "            <td>GBR</td>\n",
       "            <td>66.06</td>\n",
       "            <td>2637.87</td>\n",
       "            <td>81.2</td>\n",
       "            <td>79.1</td>\n",
       "        </tr>\n",
       "        <tr>\n",
       "            <td>IND</td>\n",
       "            <td>1338.66</td>\n",
       "            <td>2652.55</td>\n",
       "            <td>68.8</td>\n",
       "            <td>1168.9</td>\n",
       "        </tr>\n",
       "        <tr>\n",
       "            <td>USA</td>\n",
       "            <td>325.15</td>\n",
       "            <td>19485.4</td>\n",
       "            <td>78.5</td>\n",
       "            <td>391.6</td>\n",
       "        </tr>\n",
       "    </tbody>\n",
       "</table>"
      ],
      "text/plain": [
       "[('CHN', 1386.4, 12143.5, 76.4, 1469.88),\n",
       " ('FRA', 66.87, 2586.29, 82.5, 69.02),\n",
       " ('GBR', 66.06, 2637.87, 81.2, 79.1),\n",
       " ('IND', 1338.66, 2652.55, 68.8, 1168.9),\n",
       " ('USA', 325.15, 19485.4, 78.5, 391.6)]"
      ]
     },
     "execution_count": 12,
     "metadata": {},
     "output_type": "execute_result"
    }
   ],
   "source": [
    "%%sql\n",
    "SELECT * FROM indicators0\n",
    "LIMIT 5"
   ]
  },
  {
   "cell_type": "code",
   "execution_count": 25,
   "id": "219f0e27",
   "metadata": {},
   "outputs": [
    {
     "name": "stdout",
     "output_type": "stream",
     "text": [
      " * sqlite:///C:\\Users\\bilene\\book.db\n",
      "Done.\n"
     ]
    },
    {
     "data": {
      "text/html": [
       "<table>\n",
       "    <thead>\n",
       "        <tr>\n",
       "            <th>avg_pop</th>\n",
       "            <th>avg_gdp</th>\n",
       "            <th>avg_life</th>\n",
       "            <th>avg_cell</th>\n",
       "            <th>n_obs</th>\n",
       "        </tr>\n",
       "    </thead>\n",
       "    <tbody>\n",
       "        <tr>\n",
       "            <td>636.63</td>\n",
       "            <td>7901.122</td>\n",
       "            <td>77.48</td>\n",
       "            <td>635.7</td>\n",
       "            <td>5</td>\n",
       "        </tr>\n",
       "    </tbody>\n",
       "</table>"
      ],
      "text/plain": [
       "[(636.63, 7901.122, 77.48, 635.7, 5)]"
      ]
     },
     "execution_count": 25,
     "metadata": {},
     "output_type": "execute_result"
    }
   ],
   "source": [
    "%%sql\n",
    "-- return a table that contains the average pop, gdp\n",
    "-- life, cell in the entire table\n",
    "SELECT ROUND(AVG(pop),2) AS avg_pop, AVG(gdp) AS avg_gdp, \n",
    "AVG(life) AS avg_life, AVG(cell) AS avg_cell, COUNT(*) AS n_obs\n",
    "FROM indicators0"
   ]
  },
  {
   "cell_type": "code",
   "execution_count": 32,
   "id": "3ed88479",
   "metadata": {},
   "outputs": [
    {
     "name": "stdout",
     "output_type": "stream",
     "text": [
      " * sqlite:///C:\\Users\\bilene\\book.db\n",
      "Done.\n"
     ]
    },
    {
     "data": {
      "text/html": [
       "<table>\n",
       "    <thead>\n",
       "        <tr>\n",
       "            <th>code</th>\n",
       "            <th>pop</th>\n",
       "            <th>gdp</th>\n",
       "            <th>life</th>\n",
       "            <th>cell</th>\n",
       "        </tr>\n",
       "    </thead>\n",
       "    <tbody>\n",
       "        <tr>\n",
       "            <td>CHN</td>\n",
       "            <td>1386.4</td>\n",
       "            <td>12143.5</td>\n",
       "            <td>76.4</td>\n",
       "            <td>1469.88</td>\n",
       "        </tr>\n",
       "        <tr>\n",
       "            <td>USA</td>\n",
       "            <td>325.15</td>\n",
       "            <td>19485.4</td>\n",
       "            <td>78.5</td>\n",
       "            <td>391.6</td>\n",
       "        </tr>\n",
       "    </tbody>\n",
       "</table>"
      ],
      "text/plain": [
       "[('CHN', 1386.4, 12143.5, 76.4, 1469.88),\n",
       " ('USA', 325.15, 19485.4, 78.5, 391.6)]"
      ]
     },
     "execution_count": 32,
     "metadata": {},
     "output_type": "execute_result"
    }
   ],
   "source": [
    "%%sql\n",
    "-- return back all columns that exist in the indicators0 table\n",
    "-- for countries whose gdp is greater than the average gdp\n",
    "-- of the countries in the dataset\n",
    "SELECT *\n",
    "FROM indicators0\n",
    "WHERE gdp>(SELECT AVG(gdp) FROM indicators0)"
   ]
  },
  {
   "cell_type": "code",
   "execution_count": 34,
   "id": "ccab707f",
   "metadata": {},
   "outputs": [
    {
     "name": "stdout",
     "output_type": "stream",
     "text": [
      " * sqlite:///C:\\Users\\bilene\\book.db\n",
      "Done.\n"
     ]
    },
    {
     "data": {
      "text/html": [
       "<table>\n",
       "    <thead>\n",
       "        <tr>\n",
       "            <th>year</th>\n",
       "            <th>code</th>\n",
       "            <th>pop</th>\n",
       "            <th>gdp</th>\n",
       "            <th>life</th>\n",
       "            <th>cell</th>\n",
       "            <th>imports</th>\n",
       "            <th>exports</th>\n",
       "        </tr>\n",
       "    </thead>\n",
       "    <tbody>\n",
       "        <tr>\n",
       "            <td>1990</td>\n",
       "            <td>ARG</td>\n",
       "            <td>32.62</td>\n",
       "            <td>141.35</td>\n",
       "            <td>71.6</td>\n",
       "            <td>0.01</td>\n",
       "            <td>4078.48</td>\n",
       "            <td>12352.0</td>\n",
       "        </tr>\n",
       "        <tr>\n",
       "            <td>1990</td>\n",
       "            <td>AUS</td>\n",
       "            <td>17.07</td>\n",
       "            <td>310.77</td>\n",
       "            <td>77.0</td>\n",
       "            <td>0.18</td>\n",
       "            <td>43051.4</td>\n",
       "            <td>38982.5</td>\n",
       "        </tr>\n",
       "        <tr>\n",
       "            <td>1990</td>\n",
       "            <td>AUT</td>\n",
       "            <td>7.68</td>\n",
       "            <td>166.46</td>\n",
       "            <td>75.6</td>\n",
       "            <td>0.07</td>\n",
       "            <td>49287.2</td>\n",
       "            <td>41389.8</td>\n",
       "        </tr>\n",
       "        <tr>\n",
       "            <td>1990</td>\n",
       "            <td>BEL</td>\n",
       "            <td>9.97</td>\n",
       "            <td>206.43</td>\n",
       "            <td>76.1</td>\n",
       "            <td>0.04</td>\n",
       "            <td>None</td>\n",
       "            <td>None</td>\n",
       "        </tr>\n",
       "        <tr>\n",
       "            <td>1990</td>\n",
       "            <td>BRA</td>\n",
       "            <td>149.0</td>\n",
       "            <td>461.95</td>\n",
       "            <td>65.3</td>\n",
       "            <td>0.0</td>\n",
       "            <td>24977.3</td>\n",
       "            <td>31388.9</td>\n",
       "        </tr>\n",
       "        <tr>\n",
       "            <td>1990</td>\n",
       "            <td>CAN</td>\n",
       "            <td>27.69</td>\n",
       "            <td>593.93</td>\n",
       "            <td>77.4</td>\n",
       "            <td>0.58</td>\n",
       "            <td>131641.0</td>\n",
       "            <td>126441.0</td>\n",
       "        </tr>\n",
       "        <tr>\n",
       "            <td>1990</td>\n",
       "            <td>CHE</td>\n",
       "            <td>6.72</td>\n",
       "            <td>258.07</td>\n",
       "            <td>77.2</td>\n",
       "            <td>0.13</td>\n",
       "            <td>69703.8</td>\n",
       "            <td>63797.4</td>\n",
       "        </tr>\n",
       "        <tr>\n",
       "            <td>1990</td>\n",
       "            <td>CHN</td>\n",
       "            <td>1135.18</td>\n",
       "            <td>360.86</td>\n",
       "            <td>69.3</td>\n",
       "            <td>0.02</td>\n",
       "            <td>53809.6</td>\n",
       "            <td>62755.9</td>\n",
       "        </tr>\n",
       "        <tr>\n",
       "            <td>1990</td>\n",
       "            <td>DEU</td>\n",
       "            <td>79.43</td>\n",
       "            <td>1764.97</td>\n",
       "            <td>75.2</td>\n",
       "            <td>0.27</td>\n",
       "            <td>346415.0</td>\n",
       "            <td>408874.0</td>\n",
       "        </tr>\n",
       "        <tr>\n",
       "            <td>1990</td>\n",
       "            <td>DNK</td>\n",
       "            <td>5.14</td>\n",
       "            <td>138.25</td>\n",
       "            <td>74.8</td>\n",
       "            <td>0.15</td>\n",
       "            <td>31371.7</td>\n",
       "            <td>34030.1</td>\n",
       "        </tr>\n",
       "        <tr>\n",
       "            <td>1990</td>\n",
       "            <td>ESP</td>\n",
       "            <td>38.87</td>\n",
       "            <td>535.1</td>\n",
       "            <td>76.8</td>\n",
       "            <td>0.05</td>\n",
       "            <td>87808.4</td>\n",
       "            <td>55651.4</td>\n",
       "        </tr>\n",
       "        <tr>\n",
       "            <td>1990</td>\n",
       "            <td>FIN</td>\n",
       "            <td>4.99</td>\n",
       "            <td>141.52</td>\n",
       "            <td>74.8</td>\n",
       "            <td>0.26</td>\n",
       "            <td>26943.9</td>\n",
       "            <td>26569.6</td>\n",
       "        </tr>\n",
       "        <tr>\n",
       "            <td>1990</td>\n",
       "            <td>FRA</td>\n",
       "            <td>58.24</td>\n",
       "            <td>1269.18</td>\n",
       "            <td>76.6</td>\n",
       "            <td>0.28</td>\n",
       "            <td>233954.0</td>\n",
       "            <td>212086.0</td>\n",
       "        </tr>\n",
       "        <tr>\n",
       "            <td>1990</td>\n",
       "            <td>GBR</td>\n",
       "            <td>57.25</td>\n",
       "            <td>1093.17</td>\n",
       "            <td>75.9</td>\n",
       "            <td>1.11</td>\n",
       "            <td>223036.0</td>\n",
       "            <td>185030.0</td>\n",
       "        </tr>\n",
       "        <tr>\n",
       "            <td>1990</td>\n",
       "            <td>IND</td>\n",
       "            <td>873.28</td>\n",
       "            <td>320.98</td>\n",
       "            <td>57.9</td>\n",
       "            <td>0.0</td>\n",
       "            <td>23991.4</td>\n",
       "            <td>17811.2</td>\n",
       "        </tr>\n",
       "        <tr>\n",
       "            <td>1990</td>\n",
       "            <td>IRQ</td>\n",
       "            <td>17.42</td>\n",
       "            <td>179.89</td>\n",
       "            <td>66.1</td>\n",
       "            <td>0.0</td>\n",
       "            <td>6525.51</td>\n",
       "            <td>10313.6</td>\n",
       "        </tr>\n",
       "        <tr>\n",
       "            <td>1990</td>\n",
       "            <td>ITA</td>\n",
       "            <td>56.72</td>\n",
       "            <td>1177.33</td>\n",
       "            <td>77.0</td>\n",
       "            <td>0.27</td>\n",
       "            <td>181767.0</td>\n",
       "            <td>170275.0</td>\n",
       "        </tr>\n",
       "        <tr>\n",
       "            <td>1990</td>\n",
       "            <td>JPN</td>\n",
       "            <td>123.54</td>\n",
       "            <td>3132.82</td>\n",
       "            <td>78.8</td>\n",
       "            <td>0.87</td>\n",
       "            <td>235333.0</td>\n",
       "            <td>287796.0</td>\n",
       "        </tr>\n",
       "        <tr>\n",
       "            <td>1990</td>\n",
       "            <td>KOR</td>\n",
       "            <td>42.87</td>\n",
       "            <td>279.35</td>\n",
       "            <td>71.6</td>\n",
       "            <td>0.08</td>\n",
       "            <td>74404.9</td>\n",
       "            <td>67813.9</td>\n",
       "        </tr>\n",
       "        <tr>\n",
       "            <td>1990</td>\n",
       "            <td>MEX</td>\n",
       "            <td>83.94</td>\n",
       "            <td>261.25</td>\n",
       "            <td>70.8</td>\n",
       "            <td>0.06</td>\n",
       "            <td>33021.2</td>\n",
       "            <td>27167.3</td>\n",
       "        </tr>\n",
       "        <tr>\n",
       "            <td>1990</td>\n",
       "            <td>NLD</td>\n",
       "            <td>14.95</td>\n",
       "            <td>318.33</td>\n",
       "            <td>76.9</td>\n",
       "            <td>0.08</td>\n",
       "            <td>123379.0</td>\n",
       "            <td>130662.0</td>\n",
       "        </tr>\n",
       "        <tr>\n",
       "            <td>1990</td>\n",
       "            <td>RUS</td>\n",
       "            <td>148.29</td>\n",
       "            <td>516.81</td>\n",
       "            <td>68.9</td>\n",
       "            <td>0.0</td>\n",
       "            <td>None</td>\n",
       "            <td>None</td>\n",
       "        </tr>\n",
       "        <tr>\n",
       "            <td>1990</td>\n",
       "            <td>SWE</td>\n",
       "            <td>8.56</td>\n",
       "            <td>258.44</td>\n",
       "            <td>77.5</td>\n",
       "            <td>0.46</td>\n",
       "            <td>49354.0</td>\n",
       "            <td>53066.2</td>\n",
       "        </tr>\n",
       "        <tr>\n",
       "            <td>1990</td>\n",
       "            <td>TUR</td>\n",
       "            <td>53.92</td>\n",
       "            <td>150.68</td>\n",
       "            <td>64.3</td>\n",
       "            <td>0.03</td>\n",
       "            <td>23147.1</td>\n",
       "            <td>13384.4</td>\n",
       "        </tr>\n",
       "        <tr>\n",
       "            <td>1990</td>\n",
       "            <td>USA</td>\n",
       "            <td>249.62</td>\n",
       "            <td>5963.14</td>\n",
       "            <td>75.2</td>\n",
       "            <td>5.28</td>\n",
       "            <td>517014.0</td>\n",
       "            <td>392743.0</td>\n",
       "        </tr>\n",
       "    </tbody>\n",
       "</table>"
      ],
      "text/plain": [
       "[(1990, 'ARG', 32.62, 141.35, 71.6, 0.01, 4078.48, 12352.0),\n",
       " (1990, 'AUS', 17.07, 310.77, 77.0, 0.18, 43051.4, 38982.5),\n",
       " (1990, 'AUT', 7.68, 166.46, 75.6, 0.07, 49287.2, 41389.8),\n",
       " (1990, 'BEL', 9.97, 206.43, 76.1, 0.04, None, None),\n",
       " (1990, 'BRA', 149.0, 461.95, 65.3, 0.0, 24977.3, 31388.9),\n",
       " (1990, 'CAN', 27.69, 593.93, 77.4, 0.58, 131641.0, 126441.0),\n",
       " (1990, 'CHE', 6.72, 258.07, 77.2, 0.13, 69703.8, 63797.4),\n",
       " (1990, 'CHN', 1135.18, 360.86, 69.3, 0.02, 53809.6, 62755.9),\n",
       " (1990, 'DEU', 79.43, 1764.97, 75.2, 0.27, 346415.0, 408874.0),\n",
       " (1990, 'DNK', 5.14, 138.25, 74.8, 0.15, 31371.7, 34030.1),\n",
       " (1990, 'ESP', 38.87, 535.1, 76.8, 0.05, 87808.4, 55651.4),\n",
       " (1990, 'FIN', 4.99, 141.52, 74.8, 0.26, 26943.9, 26569.6),\n",
       " (1990, 'FRA', 58.24, 1269.18, 76.6, 0.28, 233954.0, 212086.0),\n",
       " (1990, 'GBR', 57.25, 1093.17, 75.9, 1.11, 223036.0, 185030.0),\n",
       " (1990, 'IND', 873.28, 320.98, 57.9, 0.0, 23991.4, 17811.2),\n",
       " (1990, 'IRQ', 17.42, 179.89, 66.1, 0.0, 6525.51, 10313.6),\n",
       " (1990, 'ITA', 56.72, 1177.33, 77.0, 0.27, 181767.0, 170275.0),\n",
       " (1990, 'JPN', 123.54, 3132.82, 78.8, 0.87, 235333.0, 287796.0),\n",
       " (1990, 'KOR', 42.87, 279.35, 71.6, 0.08, 74404.9, 67813.9),\n",
       " (1990, 'MEX', 83.94, 261.25, 70.8, 0.06, 33021.2, 27167.3),\n",
       " (1990, 'NLD', 14.95, 318.33, 76.9, 0.08, 123379.0, 130662.0),\n",
       " (1990, 'RUS', 148.29, 516.81, 68.9, 0.0, None, None),\n",
       " (1990, 'SWE', 8.56, 258.44, 77.5, 0.46, 49354.0, 53066.2),\n",
       " (1990, 'TUR', 53.92, 150.68, 64.3, 0.03, 23147.1, 13384.4),\n",
       " (1990, 'USA', 249.62, 5963.14, 75.2, 5.28, 517014.0, 392743.0)]"
      ]
     },
     "execution_count": 34,
     "metadata": {},
     "output_type": "execute_result"
    }
   ],
   "source": [
    "%%sql\n",
    "-- return back the countries whose gdp is greater than\n",
    "-- the average gdp in 1990 for the year 1990\n",
    "-- using the indicators table\n",
    "SELECT * FROM indicators\n",
    "WHERE gdp>(SELECT AVG(gdp) FROM indicators\n",
    "          WHERE year=1990)\n",
    "AND year=1990"
   ]
  },
  {
   "cell_type": "code",
   "execution_count": 39,
   "id": "08576c03",
   "metadata": {},
   "outputs": [
    {
     "name": "stdout",
     "output_type": "stream",
     "text": [
      " * sqlite:///C:\\Users\\bilene\\book.db\n",
      "Done.\n"
     ]
    },
    {
     "data": {
      "text/html": [
       "<table>\n",
       "    <thead>\n",
       "        <tr>\n",
       "            <th>SUM(land)</th>\n",
       "        </tr>\n",
       "    </thead>\n",
       "    <tbody>\n",
       "        <tr>\n",
       "            <td>127307840.0</td>\n",
       "        </tr>\n",
       "    </tbody>\n",
       "</table>"
      ],
      "text/plain": [
       "[(127307840.0,)]"
      ]
     },
     "execution_count": 39,
     "metadata": {},
     "output_type": "execute_result"
    }
   ],
   "source": [
    "%%sql\n",
    "-- calculate the total land area of all countries in the\n",
    "-- countries table\n",
    "SELECT SUM(land) FROM countries"
   ]
  },
  {
   "cell_type": "code",
   "execution_count": 43,
   "id": "9ae1d40d",
   "metadata": {},
   "outputs": [
    {
     "name": "stdout",
     "output_type": "stream",
     "text": [
      " * sqlite:///C:\\Users\\bilene\\book.db\n",
      "Done.\n"
     ]
    },
    {
     "data": {
      "text/html": [
       "<table>\n",
       "    <thead>\n",
       "        <tr>\n",
       "            <th>region</th>\n",
       "            <th>total_land</th>\n",
       "        </tr>\n",
       "    </thead>\n",
       "    <tbody>\n",
       "        <tr>\n",
       "            <td>Europe &amp; Central Asia</td>\n",
       "            <td>27429254.6</td>\n",
       "        </tr>\n",
       "        <tr>\n",
       "            <td>East Asia &amp; Pacific</td>\n",
       "            <td>24361338.4</td>\n",
       "        </tr>\n",
       "        <tr>\n",
       "            <td>Sub-Saharan Africa</td>\n",
       "            <td>21242361.0</td>\n",
       "        </tr>\n",
       "        <tr>\n",
       "            <td>Latin America &amp; Caribbean</td>\n",
       "            <td>20038832.0</td>\n",
       "        </tr>\n",
       "        <tr>\n",
       "            <td>North America</td>\n",
       "            <td>18240984.0</td>\n",
       "        </tr>\n",
       "        <tr>\n",
       "            <td>Middle East &amp; North Africa</td>\n",
       "            <td>11223466.0</td>\n",
       "        </tr>\n",
       "        <tr>\n",
       "            <td>South Asia</td>\n",
       "            <td>4771604.0</td>\n",
       "        </tr>\n",
       "    </tbody>\n",
       "</table>"
      ],
      "text/plain": [
       "[('Europe & Central Asia', 27429254.6),\n",
       " ('East Asia & Pacific', 24361338.4),\n",
       " ('Sub-Saharan Africa', 21242361.0),\n",
       " ('Latin America & Caribbean', 20038832.0),\n",
       " ('North America', 18240984.0),\n",
       " ('Middle East & North Africa', 11223466.0),\n",
       " ('South Asia', 4771604.0)]"
      ]
     },
     "execution_count": 43,
     "metadata": {},
     "output_type": "execute_result"
    }
   ],
   "source": [
    "%%sql\n",
    "-- return the total land area by region\n",
    "SELECT region, SUM(land) AS total_land FROM countries\n",
    "GROUP BY region\n",
    "ORDER BY total_land DESC"
   ]
  },
  {
   "cell_type": "code",
   "execution_count": 47,
   "id": "a5c1327d",
   "metadata": {},
   "outputs": [
    {
     "name": "stdout",
     "output_type": "stream",
     "text": [
      " * sqlite:///C:\\Users\\bilene\\book.db\n",
      "Done.\n"
     ]
    },
    {
     "data": {
      "text/html": [
       "<table>\n",
       "    <thead>\n",
       "        <tr>\n",
       "            <th>country</th>\n",
       "            <th>land</th>\n",
       "        </tr>\n",
       "    </thead>\n",
       "    <tbody>\n",
       "        <tr>\n",
       "            <td>Russian Federation</td>\n",
       "            <td>16376900.0</td>\n",
       "        </tr>\n",
       "        <tr>\n",
       "            <td>China</td>\n",
       "            <td>9388210.0</td>\n",
       "        </tr>\n",
       "        <tr>\n",
       "            <td>United States</td>\n",
       "            <td>9147420.0</td>\n",
       "        </tr>\n",
       "        <tr>\n",
       "            <td>Canada</td>\n",
       "            <td>9093510.0</td>\n",
       "        </tr>\n",
       "        <tr>\n",
       "            <td>Brazil</td>\n",
       "            <td>8358140.0</td>\n",
       "        </tr>\n",
       "        <tr>\n",
       "            <td>Australia</td>\n",
       "            <td>7692020.0</td>\n",
       "        </tr>\n",
       "        <tr>\n",
       "            <td>India</td>\n",
       "            <td>2973190.0</td>\n",
       "        </tr>\n",
       "        <tr>\n",
       "            <td>Argentina</td>\n",
       "            <td>2736690.0</td>\n",
       "        </tr>\n",
       "        <tr>\n",
       "            <td>Kazakhstan</td>\n",
       "            <td>2699700.0</td>\n",
       "        </tr>\n",
       "        <tr>\n",
       "            <td>Algeria</td>\n",
       "            <td>2381740.0</td>\n",
       "        </tr>\n",
       "    </tbody>\n",
       "</table>"
      ],
      "text/plain": [
       "[('Russian Federation', 16376900.0),\n",
       " ('China', 9388210.0),\n",
       " ('United States', 9147420.0),\n",
       " ('Canada', 9093510.0),\n",
       " ('Brazil', 8358140.0),\n",
       " ('Australia', 7692020.0),\n",
       " ('India', 2973190.0),\n",
       " ('Argentina', 2736690.0),\n",
       " ('Kazakhstan', 2699700.0),\n",
       " ('Algeria', 2381740.0)]"
      ]
     },
     "execution_count": 47,
     "metadata": {},
     "output_type": "execute_result"
    }
   ],
   "source": [
    "%%sql\n",
    "-- return back a table that shows \n",
    "-- the land area of each county\n",
    "-- sorted by land area (descending)\n",
    "SELECT country, land FROM countries\n",
    "ORDER BY land DESC\n",
    "LIMIT 10"
   ]
  },
  {
   "cell_type": "code",
   "execution_count": 51,
   "id": "c47895a5",
   "metadata": {},
   "outputs": [
    {
     "name": "stdout",
     "output_type": "stream",
     "text": [
      " * sqlite:///C:\\Users\\bilene\\book.db\n",
      "Done.\n"
     ]
    },
    {
     "data": {
      "text/html": [
       "<table>\n",
       "    <thead>\n",
       "        <tr>\n",
       "            <th>region</th>\n",
       "            <th>total_land</th>\n",
       "        </tr>\n",
       "    </thead>\n",
       "    <tbody>\n",
       "        <tr>\n",
       "            <td>East Asia &amp; Pacific</td>\n",
       "            <td>24361338.4</td>\n",
       "        </tr>\n",
       "        <tr>\n",
       "            <td>Europe &amp; Central Asia</td>\n",
       "            <td>27429254.6</td>\n",
       "        </tr>\n",
       "        <tr>\n",
       "            <td>Latin America &amp; Caribbean</td>\n",
       "            <td>20038832.0</td>\n",
       "        </tr>\n",
       "        <tr>\n",
       "            <td>Sub-Saharan Africa</td>\n",
       "            <td>21242361.0</td>\n",
       "        </tr>\n",
       "    </tbody>\n",
       "</table>"
      ],
      "text/plain": [
       "[('East Asia & Pacific', 24361338.4),\n",
       " ('Europe & Central Asia', 27429254.6),\n",
       " ('Latin America & Caribbean', 20038832.0),\n",
       " ('Sub-Saharan Africa', 21242361.0)]"
      ]
     },
     "execution_count": 51,
     "metadata": {},
     "output_type": "execute_result"
    }
   ],
   "source": [
    "%%sql\n",
    "-- how do you groupby and then filter after?\n",
    "SELECT region, SUM(land) AS total_land FROM countries\n",
    "GROUP BY region\n",
    "HAVING total_land > 20000000"
   ]
  },
  {
   "cell_type": "code",
   "execution_count": 4,
   "id": "b9b79df9",
   "metadata": {},
   "outputs": [
    {
     "name": "stdout",
     "output_type": "stream",
     "text": [
      " * sqlite:///C:\\Users\\bilene\\book.db\n",
      "Done.\n"
     ]
    },
    {
     "data": {
      "text/html": [
       "<table>\n",
       "    <thead>\n",
       "        <tr>\n",
       "            <th>name</th>\n",
       "        </tr>\n",
       "    </thead>\n",
       "    <tbody>\n",
       "        <tr>\n",
       "            <td>countries</td>\n",
       "        </tr>\n",
       "        <tr>\n",
       "            <td>indicators</td>\n",
       "        </tr>\n",
       "        <tr>\n",
       "            <td>indicators0</td>\n",
       "        </tr>\n",
       "        <tr>\n",
       "            <td>topnames</td>\n",
       "        </tr>\n",
       "    </tbody>\n",
       "</table>"
      ],
      "text/plain": [
       "[('countries',), ('indicators',), ('indicators0',), ('topnames',)]"
      ]
     },
     "execution_count": 4,
     "metadata": {},
     "output_type": "execute_result"
    }
   ],
   "source": [
    "%%sql\n",
    "SELECT name FROM sqlite_master WHERE type='table'"
   ]
  },
  {
   "cell_type": "code",
   "execution_count": 5,
   "id": "fc14ebc4",
   "metadata": {},
   "outputs": [
    {
     "name": "stdout",
     "output_type": "stream",
     "text": [
      " * sqlite:///C:\\Users\\bilene\\book.db\n",
      "Done.\n"
     ]
    },
    {
     "data": {
      "text/html": [
       "<table>\n",
       "    <thead>\n",
       "        <tr>\n",
       "            <th>year</th>\n",
       "            <th>sex</th>\n",
       "            <th>name</th>\n",
       "            <th>count</th>\n",
       "        </tr>\n",
       "    </thead>\n",
       "    <tbody>\n",
       "        <tr>\n",
       "            <td>1880</td>\n",
       "            <td>Female</td>\n",
       "            <td>Mary</td>\n",
       "            <td>7065</td>\n",
       "        </tr>\n",
       "        <tr>\n",
       "            <td>1880</td>\n",
       "            <td>Male</td>\n",
       "            <td>John</td>\n",
       "            <td>9655</td>\n",
       "        </tr>\n",
       "        <tr>\n",
       "            <td>1881</td>\n",
       "            <td>Female</td>\n",
       "            <td>Mary</td>\n",
       "            <td>6919</td>\n",
       "        </tr>\n",
       "        <tr>\n",
       "            <td>1881</td>\n",
       "            <td>Male</td>\n",
       "            <td>John</td>\n",
       "            <td>8769</td>\n",
       "        </tr>\n",
       "        <tr>\n",
       "            <td>1882</td>\n",
       "            <td>Female</td>\n",
       "            <td>Mary</td>\n",
       "            <td>8148</td>\n",
       "        </tr>\n",
       "        <tr>\n",
       "            <td>1882</td>\n",
       "            <td>Male</td>\n",
       "            <td>John</td>\n",
       "            <td>9557</td>\n",
       "        </tr>\n",
       "        <tr>\n",
       "            <td>1883</td>\n",
       "            <td>Female</td>\n",
       "            <td>Mary</td>\n",
       "            <td>8012</td>\n",
       "        </tr>\n",
       "        <tr>\n",
       "            <td>1883</td>\n",
       "            <td>Male</td>\n",
       "            <td>John</td>\n",
       "            <td>8894</td>\n",
       "        </tr>\n",
       "        <tr>\n",
       "            <td>1884</td>\n",
       "            <td>Female</td>\n",
       "            <td>Mary</td>\n",
       "            <td>9217</td>\n",
       "        </tr>\n",
       "        <tr>\n",
       "            <td>1884</td>\n",
       "            <td>Male</td>\n",
       "            <td>John</td>\n",
       "            <td>9388</td>\n",
       "        </tr>\n",
       "    </tbody>\n",
       "</table>"
      ],
      "text/plain": [
       "[(1880, 'Female', 'Mary', 7065),\n",
       " (1880, 'Male', 'John', 9655),\n",
       " (1881, 'Female', 'Mary', 6919),\n",
       " (1881, 'Male', 'John', 8769),\n",
       " (1882, 'Female', 'Mary', 8148),\n",
       " (1882, 'Male', 'John', 9557),\n",
       " (1883, 'Female', 'Mary', 8012),\n",
       " (1883, 'Male', 'John', 8894),\n",
       " (1884, 'Female', 'Mary', 9217),\n",
       " (1884, 'Male', 'John', 9388)]"
      ]
     },
     "execution_count": 5,
     "metadata": {},
     "output_type": "execute_result"
    }
   ],
   "source": [
    "%%sql\n",
    "SELECT * FROM topnames\n",
    "LIMIT 10"
   ]
  },
  {
   "cell_type": "code",
   "execution_count": 6,
   "id": "455bf066",
   "metadata": {},
   "outputs": [
    {
     "name": "stdout",
     "output_type": "stream",
     "text": [
      " * sqlite:///C:\\Users\\bilene\\book.db\n",
      "Done.\n"
     ]
    },
    {
     "data": {
      "text/html": [
       "<table>\n",
       "    <thead>\n",
       "        <tr>\n",
       "            <th>name</th>\n",
       "            <th>tot_count</th>\n",
       "        </tr>\n",
       "    </thead>\n",
       "    <tbody>\n",
       "        <tr>\n",
       "            <td>Mary</td>\n",
       "            <td>3098428</td>\n",
       "        </tr>\n",
       "        <tr>\n",
       "            <td>Michael</td>\n",
       "            <td>3084824</td>\n",
       "        </tr>\n",
       "        <tr>\n",
       "            <td>James</td>\n",
       "            <td>1056228</td>\n",
       "        </tr>\n",
       "        <tr>\n",
       "            <td>Robert</td>\n",
       "            <td>1041984</td>\n",
       "        </tr>\n",
       "        <tr>\n",
       "            <td>John</td>\n",
       "            <td>861403</td>\n",
       "        </tr>\n",
       "        <tr>\n",
       "            <td>Jennifer</td>\n",
       "            <td>859209</td>\n",
       "        </tr>\n",
       "        <tr>\n",
       "            <td>Linda</td>\n",
       "            <td>508407</td>\n",
       "        </tr>\n",
       "        <tr>\n",
       "            <td>Lisa</td>\n",
       "            <td>420572</td>\n",
       "        </tr>\n",
       "        <tr>\n",
       "            <td>Jessica</td>\n",
       "            <td>397962</td>\n",
       "        </tr>\n",
       "        <tr>\n",
       "            <td>Jacob</td>\n",
       "            <td>370779</td>\n",
       "        </tr>\n",
       "    </tbody>\n",
       "</table>"
      ],
      "text/plain": [
       "[('Mary', 3098428),\n",
       " ('Michael', 3084824),\n",
       " ('James', 1056228),\n",
       " ('Robert', 1041984),\n",
       " ('John', 861403),\n",
       " ('Jennifer', 859209),\n",
       " ('Linda', 508407),\n",
       " ('Lisa', 420572),\n",
       " ('Jessica', 397962),\n",
       " ('Jacob', 370779)]"
      ]
     },
     "execution_count": 6,
     "metadata": {},
     "output_type": "execute_result"
    }
   ],
   "source": [
    "%%sql\n",
    "-- Return the top 10 most popular baby names that ever existed in the U.S. history\n",
    "SELECT name, SUM(count) AS tot_count\n",
    "FROM topnames\n",
    "GROUP BY name\n",
    "ORDER BY tot_count DESC\n",
    "LIMIT 10"
   ]
  },
  {
   "cell_type": "code",
   "execution_count": 7,
   "id": "70e794b4",
   "metadata": {},
   "outputs": [
    {
     "name": "stdout",
     "output_type": "stream",
     "text": [
      " * sqlite:///C:\\Users\\bilene\\book.db\n",
      "Done.\n"
     ]
    },
    {
     "data": {
      "text/html": [
       "<table>\n",
       "    <thead>\n",
       "        <tr>\n",
       "            <th>name</th>\n",
       "            <th>avg_year</th>\n",
       "        </tr>\n",
       "    </thead>\n",
       "    <tbody>\n",
       "        <tr>\n",
       "            <td>John</td>\n",
       "            <td>1901.5</td>\n",
       "        </tr>\n",
       "        <tr>\n",
       "            <td>Mary</td>\n",
       "            <td>1918.21</td>\n",
       "        </tr>\n",
       "        <tr>\n",
       "            <td>Robert</td>\n",
       "            <td>1932.76</td>\n",
       "        </tr>\n",
       "        <tr>\n",
       "            <td>James</td>\n",
       "            <td>1946.0</td>\n",
       "        </tr>\n",
       "        <tr>\n",
       "            <td>Linda</td>\n",
       "            <td>1949.5</td>\n",
       "        </tr>\n",
       "        <tr>\n",
       "            <td>David</td>\n",
       "            <td>1960.0</td>\n",
       "        </tr>\n",
       "        <tr>\n",
       "            <td>Lisa</td>\n",
       "            <td>1965.5</td>\n",
       "        </tr>\n",
       "        <tr>\n",
       "            <td>Michael</td>\n",
       "            <td>1976.36</td>\n",
       "        </tr>\n",
       "        <tr>\n",
       "            <td>Jennifer</td>\n",
       "            <td>1977.0</td>\n",
       "        </tr>\n",
       "        <tr>\n",
       "            <td>Jessica</td>\n",
       "            <td>1989.67</td>\n",
       "        </tr>\n",
       "    </tbody>\n",
       "</table>"
      ],
      "text/plain": [
       "[('John', 1901.5),\n",
       " ('Mary', 1918.21),\n",
       " ('Robert', 1932.76),\n",
       " ('James', 1946.0),\n",
       " ('Linda', 1949.5),\n",
       " ('David', 1960.0),\n",
       " ('Lisa', 1965.5),\n",
       " ('Michael', 1976.36),\n",
       " ('Jennifer', 1977.0),\n",
       " ('Jessica', 1989.67)]"
      ]
     },
     "execution_count": 7,
     "metadata": {},
     "output_type": "execute_result"
    }
   ],
   "source": [
    "%%sql\n",
    "-- Return the top 10 \"oldest\" topnames\n",
    "-- Use average year by name as a proxy\n",
    "SELECT name, ROUND(AVG(year),2) AS avg_year\n",
    "FROM topnames\n",
    "GROUP BY name\n",
    "ORDER BY avg_year ASC\n",
    "LIMIT 10"
   ]
  },
  {
   "cell_type": "code",
   "execution_count": 8,
   "id": "a81ce233",
   "metadata": {},
   "outputs": [
    {
     "name": "stdout",
     "output_type": "stream",
     "text": [
      " * sqlite:///C:\\Users\\bilene\\book.db\n",
      "Done.\n"
     ]
    },
    {
     "data": {
      "text/html": [
       "<table>\n",
       "    <thead>\n",
       "        <tr>\n",
       "            <th>name</th>\n",
       "            <th>avg_year</th>\n",
       "        </tr>\n",
       "    </thead>\n",
       "    <tbody>\n",
       "        <tr>\n",
       "            <td>Liam</td>\n",
       "            <td>2017.5</td>\n",
       "        </tr>\n",
       "        <tr>\n",
       "            <td>Emma</td>\n",
       "            <td>2014.67</td>\n",
       "        </tr>\n",
       "        <tr>\n",
       "            <td>Noah</td>\n",
       "            <td>2014.5</td>\n",
       "        </tr>\n",
       "        <tr>\n",
       "            <td>Sophia</td>\n",
       "            <td>2012.0</td>\n",
       "        </tr>\n",
       "        <tr>\n",
       "            <td>Isabella</td>\n",
       "            <td>2009.5</td>\n",
       "        </tr>\n",
       "        <tr>\n",
       "            <td>Jacob</td>\n",
       "            <td>2005.5</td>\n",
       "        </tr>\n",
       "        <tr>\n",
       "            <td>Emily</td>\n",
       "            <td>2001.5</td>\n",
       "        </tr>\n",
       "        <tr>\n",
       "            <td>Ashley</td>\n",
       "            <td>1991.5</td>\n",
       "        </tr>\n",
       "        <tr>\n",
       "            <td>Jessica</td>\n",
       "            <td>1989.67</td>\n",
       "        </tr>\n",
       "        <tr>\n",
       "            <td>Jennifer</td>\n",
       "            <td>1977.0</td>\n",
       "        </tr>\n",
       "    </tbody>\n",
       "</table>"
      ],
      "text/plain": [
       "[('Liam', 2017.5),\n",
       " ('Emma', 2014.67),\n",
       " ('Noah', 2014.5),\n",
       " ('Sophia', 2012.0),\n",
       " ('Isabella', 2009.5),\n",
       " ('Jacob', 2005.5),\n",
       " ('Emily', 2001.5),\n",
       " ('Ashley', 1991.5),\n",
       " ('Jessica', 1989.67),\n",
       " ('Jennifer', 1977.0)]"
      ]
     },
     "execution_count": 8,
     "metadata": {},
     "output_type": "execute_result"
    }
   ],
   "source": [
    "%%sql\n",
    "-- Return the top 10 \"newest\" topnames\n",
    "-- Similarly, use average year by name as a proxy\n",
    "SELECT name, ROUND(AVG(year),2) AS avg_year\n",
    "FROM topnames\n",
    "GROUP BY name\n",
    "ORDER BY avg_year DESC\n",
    "LIMIT 10"
   ]
  },
  {
   "cell_type": "code",
   "execution_count": 11,
   "id": "775af576",
   "metadata": {},
   "outputs": [],
   "source": [
    "#####\n",
    "# Merge in SQL"
   ]
  },
  {
   "cell_type": "code",
   "execution_count": 1,
   "id": "75e5133f",
   "metadata": {},
   "outputs": [],
   "source": [
    "%load_ext sql"
   ]
  },
  {
   "cell_type": "code",
   "execution_count": 2,
   "id": "8e795d99",
   "metadata": {},
   "outputs": [],
   "source": [
    "%sql sqlite:///C:\\Users\\bilene\\school.db"
   ]
  },
  {
   "cell_type": "code",
   "execution_count": 3,
   "id": "0f30b34c",
   "metadata": {},
   "outputs": [
    {
     "name": "stdout",
     "output_type": "stream",
     "text": [
      " * sqlite:///C:\\Users\\bilene\\school.db\n",
      "Done.\n"
     ]
    },
    {
     "data": {
      "text/html": [
       "<table>\n",
       "    <thead>\n",
       "        <tr>\n",
       "            <th>name</th>\n",
       "        </tr>\n",
       "    </thead>\n",
       "    <tbody>\n",
       "        <tr>\n",
       "            <td>subjects</td>\n",
       "        </tr>\n",
       "        <tr>\n",
       "            <td>instructors</td>\n",
       "        </tr>\n",
       "        <tr>\n",
       "            <td>departments</td>\n",
       "        </tr>\n",
       "        <tr>\n",
       "            <td>students</td>\n",
       "        </tr>\n",
       "        <tr>\n",
       "            <td>courses</td>\n",
       "        </tr>\n",
       "        <tr>\n",
       "            <td>classes</td>\n",
       "        </tr>\n",
       "        <tr>\n",
       "            <td>instructor_class</td>\n",
       "        </tr>\n",
       "        <tr>\n",
       "            <td>student_class</td>\n",
       "        </tr>\n",
       "    </tbody>\n",
       "</table>"
      ],
      "text/plain": [
       "[('subjects',),\n",
       " ('instructors',),\n",
       " ('departments',),\n",
       " ('students',),\n",
       " ('courses',),\n",
       " ('classes',),\n",
       " ('instructor_class',),\n",
       " ('student_class',)]"
      ]
     },
     "execution_count": 3,
     "metadata": {},
     "output_type": "execute_result"
    }
   ],
   "source": [
    "%sql SELECT name FROM sqlite_master WHERE type='table'"
   ]
  },
  {
   "cell_type": "code",
   "execution_count": 5,
   "id": "79e7b77d",
   "metadata": {},
   "outputs": [
    {
     "name": "stdout",
     "output_type": "stream",
     "text": [
      " * sqlite:///C:\\Users\\bilene\\school.db\n",
      "Done.\n"
     ]
    },
    {
     "data": {
      "text/html": [
       "<table>\n",
       "    <thead>\n",
       "        <tr>\n",
       "            <th>classid</th>\n",
       "            <th>instructorid</th>\n",
       "            <th>instructorfirst</th>\n",
       "            <th>instructorlast</th>\n",
       "            <th>departmentid</th>\n",
       "            <th>division</th>\n",
       "        </tr>\n",
       "    </thead>\n",
       "    <tbody>\n",
       "        <tr>\n",
       "            <td>21014</td>\n",
       "            <td>9167</td>\n",
       "            <td>Helen</td>\n",
       "            <td>Foster</td>\n",
       "            <td>PSYC</td>\n",
       "            <td>Natural Sciences</td>\n",
       "        </tr>\n",
       "        <tr>\n",
       "            <td>21088</td>\n",
       "            <td>9029</td>\n",
       "            <td>Grace</td>\n",
       "            <td>Hawkins</td>\n",
       "            <td>PHIL</td>\n",
       "            <td>Humanities</td>\n",
       "        </tr>\n",
       "        <tr>\n",
       "            <td>21256</td>\n",
       "            <td>9146</td>\n",
       "            <td>Jason</td>\n",
       "            <td>Garrett</td>\n",
       "            <td>ECON</td>\n",
       "            <td>Social Sciences</td>\n",
       "        </tr>\n",
       "        <tr>\n",
       "            <td>21444</td>\n",
       "            <td>9050</td>\n",
       "            <td>Taylor</td>\n",
       "            <td>Price</td>\n",
       "            <td>PHED</td>\n",
       "            <td>Social Sciences</td>\n",
       "        </tr>\n",
       "    </tbody>\n",
       "</table>"
      ],
      "text/plain": [
       "[(21014, 9167, 'Helen', 'Foster', 'PSYC', 'Natural Sciences'),\n",
       " (21088, 9029, 'Grace', 'Hawkins', 'PHIL', 'Humanities'),\n",
       " (21256, 9146, 'Jason', 'Garrett', 'ECON', 'Social Sciences'),\n",
       " (21444, 9050, 'Taylor', 'Price', 'PHED', 'Social Sciences')]"
      ]
     },
     "execution_count": 5,
     "metadata": {},
     "output_type": "execute_result"
    }
   ],
   "source": [
    "%%sql\n",
    "-- Suppose a student has registered for four classes,\n",
    "-- whose classid fields are given by 21014, 21088, 21256,\n",
    "-- and 21444. Return back the instructor data for the instructors\n",
    "-- who are teaching these classes, including their id, first and\n",
    "-- last name, their departmentid, and the department's division\n",
    "\n",
    "SELECT classid, instructorid, instructorfirst, instructorlast, departmentid,\n",
    "division\n",
    "FROM instructor_class INNER JOIN\n",
    "instructors USING(instructorid) INNER JOIN\n",
    "departments USING(departmentid)\n",
    "WHERE classid IN (21014,21088,21256,21444)\n"
   ]
  },
  {
   "cell_type": "code",
   "execution_count": 9,
   "id": "90f4dd12",
   "metadata": {},
   "outputs": [
    {
     "name": "stdout",
     "output_type": "stream",
     "text": [
      " * sqlite:///C:\\Users\\bilene\\school.db\n",
      "Done.\n"
     ]
    },
    {
     "data": {
      "text/html": [
       "<table>\n",
       "    <thead>\n",
       "        <tr>\n",
       "            <th>classionfo</th>\n",
       "            <th>classmeeting</th>\n",
       "        </tr>\n",
       "    </thead>\n",
       "    <tbody>\n",
       "        <tr>\n",
       "            <td>PSYC-100-02</td>\n",
       "            <td>09:30-10:20 MWF</td>\n",
       "        </tr>\n",
       "        <tr>\n",
       "            <td>FYS-102-02</td>\n",
       "            <td>13:30-14:50 TR</td>\n",
       "        </tr>\n",
       "        <tr>\n",
       "            <td>ECON-240-01</td>\n",
       "            <td>11:30-13:20 MW</td>\n",
       "        </tr>\n",
       "        <tr>\n",
       "            <td>PHED-180-01</td>\n",
       "            <td>None</td>\n",
       "        </tr>\n",
       "    </tbody>\n",
       "</table>"
      ],
      "text/plain": [
       "[('PSYC-100-02', '09:30-10:20 MWF'),\n",
       " ('FYS-102-02', '13:30-14:50 TR'),\n",
       " ('ECON-240-01', '11:30-13:20 MW'),\n",
       " ('PHED-180-01', None)]"
      ]
     },
     "execution_count": 9,
     "metadata": {},
     "output_type": "execute_result"
    }
   ],
   "source": [
    "%%sql\n",
    "-- return the course subject-num-sec and classmeeting times for\n",
    "-- the same 4 classes\n",
    "SELECT coursesubject || '-' || coursenum || '-' || classsection AS classionfo,\n",
    "classmeeting FROM classes\n",
    "WHERE classid IN (21014,21088,21256,21444)"
   ]
  },
  {
   "cell_type": "code",
   "execution_count": 15,
   "id": "3b8f1fd1",
   "metadata": {},
   "outputs": [
    {
     "name": "stdout",
     "output_type": "stream",
     "text": [
      " * sqlite:///C:\\Users\\bilene\\school.db\n",
      "Done.\n"
     ]
    },
    {
     "data": {
      "text/html": [
       "<table>\n",
       "    <thead>\n",
       "        <tr>\n",
       "            <th>classionfo</th>\n",
       "            <th>classmeeting</th>\n",
       "            <th>enrollment</th>\n",
       "        </tr>\n",
       "    </thead>\n",
       "    <tbody>\n",
       "        <tr>\n",
       "            <td>PSYC-100-02</td>\n",
       "            <td>09:30-10:20 MWF</td>\n",
       "            <td>20</td>\n",
       "        </tr>\n",
       "        <tr>\n",
       "            <td>FYS-102-02</td>\n",
       "            <td>13:30-14:50 TR</td>\n",
       "            <td>19</td>\n",
       "        </tr>\n",
       "        <tr>\n",
       "            <td>ECON-240-01</td>\n",
       "            <td>11:30-13:20 MW</td>\n",
       "            <td>17</td>\n",
       "        </tr>\n",
       "        <tr>\n",
       "            <td>PHED-180-01</td>\n",
       "            <td>None</td>\n",
       "            <td>22</td>\n",
       "        </tr>\n",
       "    </tbody>\n",
       "</table>"
      ],
      "text/plain": [
       "[('PSYC-100-02', '09:30-10:20 MWF', 20),\n",
       " ('FYS-102-02', '13:30-14:50 TR', 19),\n",
       " ('ECON-240-01', '11:30-13:20 MW', 17),\n",
       " ('PHED-180-01', None, 22)]"
      ]
     },
     "execution_count": 15,
     "metadata": {},
     "output_type": "execute_result"
    }
   ],
   "source": [
    "%%sql\n",
    "-- add the student enrollment data to the table above\n",
    "SELECT coursesubject || '-' || coursenum || '-' || classsection AS classionfo,\n",
    "classmeeting, COUNT(status) AS enrollment FROM classes\n",
    "INNER JOIN student_class USING(classid)\n",
    "GROUP BY classid\n",
    "HAVING classid IN (21014,21088,21256,21444)"
   ]
  },
  {
   "cell_type": "code",
   "execution_count": 26,
   "id": "d35f0bff",
   "metadata": {},
   "outputs": [
    {
     "name": "stdout",
     "output_type": "stream",
     "text": [
      " * sqlite:///C:\\Users\\bilene\\school.db\n",
      "Done.\n"
     ]
    },
    {
     "data": {
      "text/html": [
       "<table>\n",
       "    <thead>\n",
       "        <tr>\n",
       "            <th>departmentid</th>\n",
       "            <th>departmentname</th>\n",
       "            <th>num_faculty</th>\n",
       "        </tr>\n",
       "    </thead>\n",
       "    <tbody>\n",
       "        <tr>\n",
       "            <td>MUS</td>\n",
       "            <td>Music</td>\n",
       "            <td>32</td>\n",
       "        </tr>\n",
       "        <tr>\n",
       "            <td>PHED</td>\n",
       "            <td>Health, Exercise, &amp; Sport Stud</td>\n",
       "            <td>30</td>\n",
       "        </tr>\n",
       "        <tr>\n",
       "            <td>ENGL</td>\n",
       "            <td>English</td>\n",
       "            <td>24</td>\n",
       "        </tr>\n",
       "        <tr>\n",
       "            <td>LANG</td>\n",
       "            <td>Modern Language</td>\n",
       "            <td>20</td>\n",
       "        </tr>\n",
       "        <tr>\n",
       "            <td>BIOL</td>\n",
       "            <td>Biology</td>\n",
       "            <td>17</td>\n",
       "        </tr>\n",
       "        <tr>\n",
       "            <td>ART</td>\n",
       "            <td>Art History and Visual Culture</td>\n",
       "            <td>14</td>\n",
       "        </tr>\n",
       "        <tr>\n",
       "            <td>PSYC</td>\n",
       "            <td>Psychology</td>\n",
       "            <td>13</td>\n",
       "        </tr>\n",
       "        <tr>\n",
       "            <td>ECON</td>\n",
       "            <td>Economics</td>\n",
       "            <td>13</td>\n",
       "        </tr>\n",
       "        <tr>\n",
       "            <td>MATH</td>\n",
       "            <td>Mathematics &amp; Computer Science</td>\n",
       "            <td>12</td>\n",
       "        </tr>\n",
       "        <tr>\n",
       "            <td>COMM</td>\n",
       "            <td>Communication</td>\n",
       "            <td>12</td>\n",
       "        </tr>\n",
       "        <tr>\n",
       "            <td>CHEM</td>\n",
       "            <td>Chemistry and Biochemistry</td>\n",
       "            <td>11</td>\n",
       "        </tr>\n",
       "        <tr>\n",
       "            <td>HIST</td>\n",
       "            <td>History</td>\n",
       "            <td>9</td>\n",
       "        </tr>\n",
       "        <tr>\n",
       "            <td>THTR</td>\n",
       "            <td>Theatre</td>\n",
       "            <td>8</td>\n",
       "        </tr>\n",
       "        <tr>\n",
       "            <td>POSC</td>\n",
       "            <td>Political Science</td>\n",
       "            <td>8</td>\n",
       "        </tr>\n",
       "        <tr>\n",
       "            <td>REL</td>\n",
       "            <td>Religion</td>\n",
       "            <td>7</td>\n",
       "        </tr>\n",
       "        <tr>\n",
       "            <td>PHYS</td>\n",
       "            <td>Physics</td>\n",
       "            <td>7</td>\n",
       "        </tr>\n",
       "        <tr>\n",
       "            <td>PHIL</td>\n",
       "            <td>Philosophy</td>\n",
       "            <td>7</td>\n",
       "        </tr>\n",
       "        <tr>\n",
       "            <td>DANC</td>\n",
       "            <td>Dance</td>\n",
       "            <td>6</td>\n",
       "        </tr>\n",
       "        <tr>\n",
       "            <td>GEOS</td>\n",
       "            <td>Geosciences</td>\n",
       "            <td>5</td>\n",
       "        </tr>\n",
       "        <tr>\n",
       "            <td>ENVS</td>\n",
       "            <td>Environmental Studies</td>\n",
       "            <td>5</td>\n",
       "        </tr>\n",
       "        <tr>\n",
       "            <td>EDUC</td>\n",
       "            <td>Education</td>\n",
       "            <td>4</td>\n",
       "        </tr>\n",
       "        <tr>\n",
       "            <td>CLAS</td>\n",
       "            <td>Classical Studies</td>\n",
       "            <td>4</td>\n",
       "        </tr>\n",
       "        <tr>\n",
       "            <td>CINE</td>\n",
       "            <td>Cinema</td>\n",
       "            <td>4</td>\n",
       "        </tr>\n",
       "        <tr>\n",
       "            <td>INTL</td>\n",
       "            <td>International Studies</td>\n",
       "            <td>2</td>\n",
       "        </tr>\n",
       "        <tr>\n",
       "            <td>BLST</td>\n",
       "            <td>Black Studies</td>\n",
       "            <td>2</td>\n",
       "        </tr>\n",
       "        <tr>\n",
       "            <td>EAST</td>\n",
       "            <td>East Asian Studies</td>\n",
       "            <td>1</td>\n",
       "        </tr>\n",
       "    </tbody>\n",
       "</table>"
      ],
      "text/plain": [
       "[('MUS', 'Music', 32),\n",
       " ('PHED', 'Health, Exercise, & Sport Stud', 30),\n",
       " ('ENGL', 'English', 24),\n",
       " ('LANG', 'Modern Language', 20),\n",
       " ('BIOL', 'Biology', 17),\n",
       " ('ART', 'Art History and Visual Culture', 14),\n",
       " ('PSYC', 'Psychology', 13),\n",
       " ('ECON', 'Economics', 13),\n",
       " ('MATH', 'Mathematics & Computer Science', 12),\n",
       " ('COMM', 'Communication', 12),\n",
       " ('CHEM', 'Chemistry and Biochemistry', 11),\n",
       " ('HIST', 'History', 9),\n",
       " ('THTR', 'Theatre', 8),\n",
       " ('POSC', 'Political Science', 8),\n",
       " ('REL', 'Religion', 7),\n",
       " ('PHYS', 'Physics', 7),\n",
       " ('PHIL', 'Philosophy', 7),\n",
       " ('DANC', 'Dance', 6),\n",
       " ('GEOS', 'Geosciences', 5),\n",
       " ('ENVS', 'Environmental Studies', 5),\n",
       " ('EDUC', 'Education', 4),\n",
       " ('CLAS', 'Classical Studies', 4),\n",
       " ('CINE', 'Cinema', 4),\n",
       " ('INTL', 'International Studies', 2),\n",
       " ('BLST', 'Black Studies', 2),\n",
       " ('EAST', 'East Asian Studies', 1)]"
      ]
     },
     "execution_count": 26,
     "metadata": {},
     "output_type": "execute_result"
    }
   ],
   "source": [
    "%%sql\n",
    "-- How many faculty are there per department?\n",
    "SELECT departmentid, departmentname, COUNT(instructorid) AS num_faculty\n",
    "FROM departments INNER JOIN instructors USING(departmentid)\n",
    "GROUP BY departmentid\n",
    "ORDER BY num_faculty DESC"
   ]
  },
  {
   "cell_type": "code",
   "execution_count": 27,
   "id": "d117e7e0",
   "metadata": {},
   "outputs": [
    {
     "name": "stdout",
     "output_type": "stream",
     "text": [
      " * sqlite:///C:\\Users\\bilene\\school.db\n",
      "Done.\n"
     ]
    },
    {
     "data": {
      "text/html": [
       "<table>\n",
       "    <thead>\n",
       "        <tr>\n",
       "            <th>classid</th>\n",
       "            <th>classterm</th>\n",
       "            <th>coursesubject</th>\n",
       "            <th>coursenum</th>\n",
       "            <th>classsection</th>\n",
       "            <th>classmeeting</th>\n",
       "            <th>coursesubject_1</th>\n",
       "            <th>coursetitle</th>\n",
       "            <th>coursehours</th>\n",
       "        </tr>\n",
       "    </thead>\n",
       "    <tbody>\n",
       "        <tr>\n",
       "            <td>40002</td>\n",
       "            <td>FALL</td>\n",
       "            <td>THTR</td>\n",
       "            <td>100</td>\n",
       "            <td>01</td>\n",
       "            <td>09:30-10:20 MWF</td>\n",
       "            <td>ASTR</td>\n",
       "            <td>Cur Topics in Astronomy</td>\n",
       "            <td>4.0</td>\n",
       "        </tr>\n",
       "        <tr>\n",
       "            <td>40002</td>\n",
       "            <td>FALL</td>\n",
       "            <td>THTR</td>\n",
       "            <td>100</td>\n",
       "            <td>01</td>\n",
       "            <td>09:30-10:20 MWF</td>\n",
       "            <td>BIOL</td>\n",
       "            <td>Cancer Biology</td>\n",
       "            <td>4.0</td>\n",
       "        </tr>\n",
       "        <tr>\n",
       "            <td>40002</td>\n",
       "            <td>FALL</td>\n",
       "            <td>THTR</td>\n",
       "            <td>100</td>\n",
       "            <td>01</td>\n",
       "            <td>09:30-10:20 MWF</td>\n",
       "            <td>INTL</td>\n",
       "            <td>Intro to Intl Studies</td>\n",
       "            <td>4.0</td>\n",
       "        </tr>\n",
       "        <tr>\n",
       "            <td>40002</td>\n",
       "            <td>FALL</td>\n",
       "            <td>THTR</td>\n",
       "            <td>100</td>\n",
       "            <td>01</td>\n",
       "            <td>09:30-10:20 MWF</td>\n",
       "            <td>PSYC</td>\n",
       "            <td>Intro to Psychology</td>\n",
       "            <td>4.0</td>\n",
       "        </tr>\n",
       "        <tr>\n",
       "            <td>40002</td>\n",
       "            <td>FALL</td>\n",
       "            <td>THTR</td>\n",
       "            <td>100</td>\n",
       "            <td>01</td>\n",
       "            <td>09:30-10:20 MWF</td>\n",
       "            <td>SA</td>\n",
       "            <td>People/Culture/Society</td>\n",
       "            <td>4.0</td>\n",
       "        </tr>\n",
       "        <tr>\n",
       "            <td>40002</td>\n",
       "            <td>FALL</td>\n",
       "            <td>THTR</td>\n",
       "            <td>100</td>\n",
       "            <td>01</td>\n",
       "            <td>09:30-10:20 MWF</td>\n",
       "            <td>THTR</td>\n",
       "            <td>Intro to Theatre Studies</td>\n",
       "            <td>4.0</td>\n",
       "        </tr>\n",
       "        <tr>\n",
       "            <td>40003</td>\n",
       "            <td>FALL</td>\n",
       "            <td>THTR</td>\n",
       "            <td>110</td>\n",
       "            <td>01</td>\n",
       "            <td>14:30-17:50 M</td>\n",
       "            <td>ARTS</td>\n",
       "            <td>Introduction to Drawing</td>\n",
       "            <td>4.0</td>\n",
       "        </tr>\n",
       "        <tr>\n",
       "            <td>40003</td>\n",
       "            <td>FALL</td>\n",
       "            <td>THTR</td>\n",
       "            <td>110</td>\n",
       "            <td>01</td>\n",
       "            <td>14:30-17:50 M</td>\n",
       "            <td>CS</td>\n",
       "            <td>Computing/Digital Media</td>\n",
       "            <td>4.0</td>\n",
       "        </tr>\n",
       "        <tr>\n",
       "            <td>40003</td>\n",
       "            <td>FALL</td>\n",
       "            <td>THTR</td>\n",
       "            <td>110</td>\n",
       "            <td>01</td>\n",
       "            <td>14:30-17:50 M</td>\n",
       "            <td>DANC</td>\n",
       "            <td>Seminar in Production</td>\n",
       "            <td>2.0</td>\n",
       "        </tr>\n",
       "        <tr>\n",
       "            <td>40003</td>\n",
       "            <td>FALL</td>\n",
       "            <td>THTR</td>\n",
       "            <td>110</td>\n",
       "            <td>01</td>\n",
       "            <td>14:30-17:50 M</td>\n",
       "            <td>THTR</td>\n",
       "            <td>Intro to Thea Design</td>\n",
       "            <td>4.0</td>\n",
       "        </tr>\n",
       "    </tbody>\n",
       "</table>"
      ],
      "text/plain": [
       "[(40002, 'FALL', 'THTR', 100, '01', '09:30-10:20 MWF', 'ASTR', 'Cur Topics in Astronomy', 4.0),\n",
       " (40002, 'FALL', 'THTR', 100, '01', '09:30-10:20 MWF', 'BIOL', 'Cancer Biology', 4.0),\n",
       " (40002, 'FALL', 'THTR', 100, '01', '09:30-10:20 MWF', 'INTL', 'Intro to Intl Studies', 4.0),\n",
       " (40002, 'FALL', 'THTR', 100, '01', '09:30-10:20 MWF', 'PSYC', 'Intro to Psychology', 4.0),\n",
       " (40002, 'FALL', 'THTR', 100, '01', '09:30-10:20 MWF', 'SA', 'People/Culture/Society', 4.0),\n",
       " (40002, 'FALL', 'THTR', 100, '01', '09:30-10:20 MWF', 'THTR', 'Intro to Theatre Studies', 4.0),\n",
       " (40003, 'FALL', 'THTR', 110, '01', '14:30-17:50 M', 'ARTS', 'Introduction to Drawing', 4.0),\n",
       " (40003, 'FALL', 'THTR', 110, '01', '14:30-17:50 M', 'CS', 'Computing/Digital Media', 4.0),\n",
       " (40003, 'FALL', 'THTR', 110, '01', '14:30-17:50 M', 'DANC', 'Seminar in Production', 2.0),\n",
       " (40003, 'FALL', 'THTR', 110, '01', '14:30-17:50 M', 'THTR', 'Intro to Thea Design', 4.0)]"
      ]
     },
     "execution_count": 27,
     "metadata": {},
     "output_type": "execute_result"
    }
   ],
   "source": [
    "%%sql\n",
    "SELECT * FROM classes INNER JOIN courses USING(coursenum)\n",
    "LIMIT 10"
   ]
  },
  {
   "cell_type": "code",
   "execution_count": 1,
   "id": "12058cec",
   "metadata": {},
   "outputs": [],
   "source": [
    "### new lecture\n",
    "%load_ext sql\n",
    "%sql sqlite:///C:\\Users\\bilene\\book.db"
   ]
  },
  {
   "cell_type": "code",
   "execution_count": 5,
   "id": "bec97478",
   "metadata": {},
   "outputs": [
    {
     "name": "stdout",
     "output_type": "stream",
     "text": [
      " * sqlite:///C:\\Users\\bilene\\book.db\n",
      "Done.\n"
     ]
    },
    {
     "data": {
      "text/html": [
       "<table>\n",
       "    <thead>\n",
       "        <tr>\n",
       "            <th>name</th>\n",
       "        </tr>\n",
       "    </thead>\n",
       "    <tbody>\n",
       "        <tr>\n",
       "            <td>countries</td>\n",
       "        </tr>\n",
       "        <tr>\n",
       "            <td>indicators</td>\n",
       "        </tr>\n",
       "        <tr>\n",
       "            <td>indicators0</td>\n",
       "        </tr>\n",
       "        <tr>\n",
       "            <td>topnames</td>\n",
       "        </tr>\n",
       "    </tbody>\n",
       "</table>"
      ],
      "text/plain": [
       "[('countries',), ('indicators',), ('indicators0',), ('topnames',)]"
      ]
     },
     "execution_count": 5,
     "metadata": {},
     "output_type": "execute_result"
    }
   ],
   "source": [
    "%%sql\n",
    "SELECT name FROM sqlite_master WHERE type='table'"
   ]
  },
  {
   "cell_type": "code",
   "execution_count": 24,
   "id": "9454e13d",
   "metadata": {},
   "outputs": [
    {
     "name": "stdout",
     "output_type": "stream",
     "text": [
      " * sqlite:///C:\\Users\\bilene\\book.db\n",
      "Done.\n"
     ]
    },
    {
     "data": {
      "text/html": [
       "<table>\n",
       "    <thead>\n",
       "        <tr>\n",
       "            <th>year</th>\n",
       "            <th>code</th>\n",
       "            <th>pop</th>\n",
       "            <th>gdp</th>\n",
       "            <th>life</th>\n",
       "            <th>cell</th>\n",
       "            <th>imports</th>\n",
       "            <th>exports</th>\n",
       "        </tr>\n",
       "    </thead>\n",
       "    <tbody>\n",
       "        <tr>\n",
       "            <td>1960</td>\n",
       "            <td>ABW</td>\n",
       "            <td>0.05</td>\n",
       "            <td>None</td>\n",
       "            <td>65.7</td>\n",
       "            <td>0.0</td>\n",
       "            <td>None</td>\n",
       "            <td>None</td>\n",
       "        </tr>\n",
       "        <tr>\n",
       "            <td>1960</td>\n",
       "            <td>AFG</td>\n",
       "            <td>9.0</td>\n",
       "            <td>0.54</td>\n",
       "            <td>32.3</td>\n",
       "            <td>0.0</td>\n",
       "            <td>None</td>\n",
       "            <td>49.9</td>\n",
       "        </tr>\n",
       "        <tr>\n",
       "            <td>1960</td>\n",
       "            <td>AGO</td>\n",
       "            <td>5.45</td>\n",
       "            <td>None</td>\n",
       "            <td>33.3</td>\n",
       "            <td>0.0</td>\n",
       "            <td>127.5</td>\n",
       "            <td>123.3</td>\n",
       "        </tr>\n",
       "        <tr>\n",
       "            <td>1960</td>\n",
       "            <td>ALB</td>\n",
       "            <td>1.61</td>\n",
       "            <td>None</td>\n",
       "            <td>62.3</td>\n",
       "            <td>0.0</td>\n",
       "            <td>None</td>\n",
       "            <td>None</td>\n",
       "        </tr>\n",
       "        <tr>\n",
       "            <td>1960</td>\n",
       "            <td>AND</td>\n",
       "            <td>0.01</td>\n",
       "            <td>None</td>\n",
       "            <td>None</td>\n",
       "            <td>0.0</td>\n",
       "            <td>None</td>\n",
       "            <td>None</td>\n",
       "        </tr>\n",
       "        <tr>\n",
       "            <td>1960</td>\n",
       "            <td>ARE</td>\n",
       "            <td>0.09</td>\n",
       "            <td>None</td>\n",
       "            <td>52.3</td>\n",
       "            <td>None</td>\n",
       "            <td>None</td>\n",
       "            <td>None</td>\n",
       "        </tr>\n",
       "        <tr>\n",
       "            <td>1960</td>\n",
       "            <td>ARG</td>\n",
       "            <td>20.48</td>\n",
       "            <td>None</td>\n",
       "            <td>65.0</td>\n",
       "            <td>0.0</td>\n",
       "            <td>1227.3</td>\n",
       "            <td>1079.1</td>\n",
       "        </tr>\n",
       "        <tr>\n",
       "            <td>1960</td>\n",
       "            <td>ARM</td>\n",
       "            <td>1.87</td>\n",
       "            <td>None</td>\n",
       "            <td>66.0</td>\n",
       "            <td>0.0</td>\n",
       "            <td>None</td>\n",
       "            <td>None</td>\n",
       "        </tr>\n",
       "        <tr>\n",
       "            <td>1960</td>\n",
       "            <td>ASM</td>\n",
       "            <td>0.02</td>\n",
       "            <td>None</td>\n",
       "            <td>None</td>\n",
       "            <td>0.0</td>\n",
       "            <td>None</td>\n",
       "            <td>None</td>\n",
       "        </tr>\n",
       "        <tr>\n",
       "            <td>1960</td>\n",
       "            <td>ATG</td>\n",
       "            <td>0.05</td>\n",
       "            <td>None</td>\n",
       "            <td>62.1</td>\n",
       "            <td>0.0</td>\n",
       "            <td>None</td>\n",
       "            <td>None</td>\n",
       "        </tr>\n",
       "    </tbody>\n",
       "</table>"
      ],
      "text/plain": [
       "[(1960, 'ABW', 0.05, None, 65.7, 0.0, None, None),\n",
       " (1960, 'AFG', 9.0, 0.54, 32.3, 0.0, None, 49.9),\n",
       " (1960, 'AGO', 5.45, None, 33.3, 0.0, 127.5, 123.3),\n",
       " (1960, 'ALB', 1.61, None, 62.3, 0.0, None, None),\n",
       " (1960, 'AND', 0.01, None, None, 0.0, None, None),\n",
       " (1960, 'ARE', 0.09, None, 52.3, None, None, None),\n",
       " (1960, 'ARG', 20.48, None, 65.0, 0.0, 1227.3, 1079.1),\n",
       " (1960, 'ARM', 1.87, None, 66.0, 0.0, None, None),\n",
       " (1960, 'ASM', 0.02, None, None, 0.0, None, None),\n",
       " (1960, 'ATG', 0.05, None, 62.1, 0.0, None, None)]"
      ]
     },
     "execution_count": 24,
     "metadata": {},
     "output_type": "execute_result"
    }
   ],
   "source": [
    "%%sql\n",
    "SELECT * FROM indicators\n",
    "LIMIT 10"
   ]
  },
  {
   "cell_type": "code",
   "execution_count": 25,
   "id": "895ddaa1",
   "metadata": {},
   "outputs": [
    {
     "name": "stdout",
     "output_type": "stream",
     "text": [
      " * sqlite:///C:\\Users\\bilene\\book.db\n",
      "Done.\n"
     ]
    },
    {
     "data": {
      "text/html": [
       "<table>\n",
       "    <thead>\n",
       "        <tr>\n",
       "            <th>code</th>\n",
       "            <th>country</th>\n",
       "            <th>region</th>\n",
       "            <th>income</th>\n",
       "            <th>land</th>\n",
       "        </tr>\n",
       "    </thead>\n",
       "    <tbody>\n",
       "        <tr>\n",
       "            <td>ABW</td>\n",
       "            <td>Aruba</td>\n",
       "            <td>Latin America &amp; Caribbean</td>\n",
       "            <td>High income</td>\n",
       "            <td>180.0</td>\n",
       "        </tr>\n",
       "        <tr>\n",
       "            <td>AFG</td>\n",
       "            <td>Afghanistan</td>\n",
       "            <td>South Asia</td>\n",
       "            <td>Low income</td>\n",
       "            <td>652860.0</td>\n",
       "        </tr>\n",
       "        <tr>\n",
       "            <td>AGO</td>\n",
       "            <td>Angola</td>\n",
       "            <td>Sub-Saharan Africa</td>\n",
       "            <td>Lower middle income</td>\n",
       "            <td>1246700.0</td>\n",
       "        </tr>\n",
       "        <tr>\n",
       "            <td>ALB</td>\n",
       "            <td>Albania</td>\n",
       "            <td>Europe &amp; Central Asia</td>\n",
       "            <td>Upper middle income</td>\n",
       "            <td>27400.0</td>\n",
       "        </tr>\n",
       "        <tr>\n",
       "            <td>AND</td>\n",
       "            <td>Andorra</td>\n",
       "            <td>Europe &amp; Central Asia</td>\n",
       "            <td>High income</td>\n",
       "            <td>470.0</td>\n",
       "        </tr>\n",
       "        <tr>\n",
       "            <td>ARE</td>\n",
       "            <td>United Arab Emirates</td>\n",
       "            <td>Middle East &amp; North Africa</td>\n",
       "            <td>High income</td>\n",
       "            <td>71020.0</td>\n",
       "        </tr>\n",
       "        <tr>\n",
       "            <td>ARG</td>\n",
       "            <td>Argentina</td>\n",
       "            <td>Latin America &amp; Caribbean</td>\n",
       "            <td>Upper middle income</td>\n",
       "            <td>2736690.0</td>\n",
       "        </tr>\n",
       "        <tr>\n",
       "            <td>ARM</td>\n",
       "            <td>Armenia</td>\n",
       "            <td>Europe &amp; Central Asia</td>\n",
       "            <td>Upper middle income</td>\n",
       "            <td>28470.0</td>\n",
       "        </tr>\n",
       "        <tr>\n",
       "            <td>ASM</td>\n",
       "            <td>American Samoa</td>\n",
       "            <td>East Asia &amp; Pacific</td>\n",
       "            <td>Upper middle income</td>\n",
       "            <td>200.0</td>\n",
       "        </tr>\n",
       "        <tr>\n",
       "            <td>ATG</td>\n",
       "            <td>Antigua and Barbuda</td>\n",
       "            <td>Latin America &amp; Caribbean</td>\n",
       "            <td>High income</td>\n",
       "            <td>440.0</td>\n",
       "        </tr>\n",
       "    </tbody>\n",
       "</table>"
      ],
      "text/plain": [
       "[('ABW', 'Aruba', 'Latin America & Caribbean', 'High income', 180.0),\n",
       " ('AFG', 'Afghanistan', 'South Asia', 'Low income', 652860.0),\n",
       " ('AGO', 'Angola', 'Sub-Saharan Africa', 'Lower middle income', 1246700.0),\n",
       " ('ALB', 'Albania', 'Europe & Central Asia', 'Upper middle income', 27400.0),\n",
       " ('AND', 'Andorra', 'Europe & Central Asia', 'High income', 470.0),\n",
       " ('ARE', 'United Arab Emirates', 'Middle East & North Africa', 'High income', 71020.0),\n",
       " ('ARG', 'Argentina', 'Latin America & Caribbean', 'Upper middle income', 2736690.0),\n",
       " ('ARM', 'Armenia', 'Europe & Central Asia', 'Upper middle income', 28470.0),\n",
       " ('ASM', 'American Samoa', 'East Asia & Pacific', 'Upper middle income', 200.0),\n",
       " ('ATG', 'Antigua and Barbuda', 'Latin America & Caribbean', 'High income', 440.0)]"
      ]
     },
     "execution_count": 25,
     "metadata": {},
     "output_type": "execute_result"
    }
   ],
   "source": [
    "%%sql\n",
    "SELECT * FROM countries\n",
    "LIMIT 10"
   ]
  },
  {
   "cell_type": "code",
   "execution_count": 23,
   "id": "52ff35a3",
   "metadata": {},
   "outputs": [
    {
     "name": "stdout",
     "output_type": "stream",
     "text": [
      " * sqlite:///C:\\Users\\bilene\\book.db\n",
      "(sqlite3.OperationalError) near \"FROM\": syntax error\n",
      "[SQL: -- inner join\n",
      "SELECT *, FROM indicators \n",
      "INNER JOIN countries USING(code)]\n",
      "(Background on this error at: https://sqlalche.me/e/20/e3q8)\n"
     ]
    }
   ],
   "source": [
    "%%sql\n",
    "-- inner join\n",
    "SELECT *, FROM indicators \n",
    "INNER JOIN countries USING(code)"
   ]
  },
  {
   "cell_type": "code",
   "execution_count": 15,
   "id": "803bb7b2",
   "metadata": {},
   "outputs": [
    {
     "name": "stdout",
     "output_type": "stream",
     "text": [
      " * sqlite:///C:\\Users\\bilene\\book.db\n",
      "(sqlite3.OperationalError) RIGHT and FULL OUTER JOINs are not currently supported\n",
      "[SQL: SELECT * FROM indicators \n",
      "RIGHT JOIN countries USING(code)]\n",
      "(Background on this error at: https://sqlalche.me/e/20/e3q8)\n"
     ]
    }
   ],
   "source": [
    "%%sql\n",
    "-- left join\n",
    "SELECT * FROM indicators \n",
    "LEFT JOIN countries USING(code)"
   ]
  },
  {
   "cell_type": "code",
   "execution_count": 22,
   "id": "9de806f5",
   "metadata": {},
   "outputs": [
    {
     "name": "stdout",
     "output_type": "stream",
     "text": [
      " * sqlite:///C:\\Users\\bilene\\book.db\n",
      "Done.\n"
     ]
    },
    {
     "data": {
      "text/html": [
       "<table>\n",
       "    <thead>\n",
       "        <tr>\n",
       "            <th>code</th>\n",
       "            <th>country</th>\n",
       "            <th>region</th>\n",
       "            <th>income</th>\n",
       "            <th>land</th>\n",
       "            <th>year</th>\n",
       "            <th>pop</th>\n",
       "            <th>gdp</th>\n",
       "            <th>life</th>\n",
       "            <th>cell</th>\n",
       "            <th>imports</th>\n",
       "            <th>exports</th>\n",
       "        </tr>\n",
       "    </thead>\n",
       "    <tbody>\n",
       "        <tr>\n",
       "            <td>ABW</td>\n",
       "            <td>Aruba</td>\n",
       "            <td>Latin America &amp; Caribbean</td>\n",
       "            <td>High income</td>\n",
       "            <td>180.0</td>\n",
       "            <td>1960</td>\n",
       "            <td>0.05</td>\n",
       "            <td>None</td>\n",
       "            <td>65.7</td>\n",
       "            <td>0.0</td>\n",
       "            <td>None</td>\n",
       "            <td>None</td>\n",
       "        </tr>\n",
       "        <tr>\n",
       "            <td>ABW</td>\n",
       "            <td>Aruba</td>\n",
       "            <td>Latin America &amp; Caribbean</td>\n",
       "            <td>High income</td>\n",
       "            <td>180.0</td>\n",
       "            <td>1961</td>\n",
       "            <td>0.06</td>\n",
       "            <td>None</td>\n",
       "            <td>66.1</td>\n",
       "            <td>None</td>\n",
       "            <td>None</td>\n",
       "            <td>None</td>\n",
       "        </tr>\n",
       "        <tr>\n",
       "            <td>ABW</td>\n",
       "            <td>Aruba</td>\n",
       "            <td>Latin America &amp; Caribbean</td>\n",
       "            <td>High income</td>\n",
       "            <td>180.0</td>\n",
       "            <td>1962</td>\n",
       "            <td>0.06</td>\n",
       "            <td>None</td>\n",
       "            <td>66.4</td>\n",
       "            <td>None</td>\n",
       "            <td>None</td>\n",
       "            <td>None</td>\n",
       "        </tr>\n",
       "        <tr>\n",
       "            <td>ABW</td>\n",
       "            <td>Aruba</td>\n",
       "            <td>Latin America &amp; Caribbean</td>\n",
       "            <td>High income</td>\n",
       "            <td>180.0</td>\n",
       "            <td>1963</td>\n",
       "            <td>0.06</td>\n",
       "            <td>None</td>\n",
       "            <td>66.8</td>\n",
       "            <td>None</td>\n",
       "            <td>None</td>\n",
       "            <td>None</td>\n",
       "        </tr>\n",
       "        <tr>\n",
       "            <td>ABW</td>\n",
       "            <td>Aruba</td>\n",
       "            <td>Latin America &amp; Caribbean</td>\n",
       "            <td>High income</td>\n",
       "            <td>180.0</td>\n",
       "            <td>1964</td>\n",
       "            <td>0.06</td>\n",
       "            <td>None</td>\n",
       "            <td>67.1</td>\n",
       "            <td>None</td>\n",
       "            <td>None</td>\n",
       "            <td>None</td>\n",
       "        </tr>\n",
       "        <tr>\n",
       "            <td>ABW</td>\n",
       "            <td>Aruba</td>\n",
       "            <td>Latin America &amp; Caribbean</td>\n",
       "            <td>High income</td>\n",
       "            <td>180.0</td>\n",
       "            <td>1965</td>\n",
       "            <td>0.06</td>\n",
       "            <td>None</td>\n",
       "            <td>67.4</td>\n",
       "            <td>0.0</td>\n",
       "            <td>None</td>\n",
       "            <td>None</td>\n",
       "        </tr>\n",
       "        <tr>\n",
       "            <td>ABW</td>\n",
       "            <td>Aruba</td>\n",
       "            <td>Latin America &amp; Caribbean</td>\n",
       "            <td>High income</td>\n",
       "            <td>180.0</td>\n",
       "            <td>1966</td>\n",
       "            <td>0.06</td>\n",
       "            <td>None</td>\n",
       "            <td>67.8</td>\n",
       "            <td>None</td>\n",
       "            <td>None</td>\n",
       "            <td>None</td>\n",
       "        </tr>\n",
       "        <tr>\n",
       "            <td>ABW</td>\n",
       "            <td>Aruba</td>\n",
       "            <td>Latin America &amp; Caribbean</td>\n",
       "            <td>High income</td>\n",
       "            <td>180.0</td>\n",
       "            <td>1967</td>\n",
       "            <td>0.06</td>\n",
       "            <td>None</td>\n",
       "            <td>68.1</td>\n",
       "            <td>None</td>\n",
       "            <td>None</td>\n",
       "            <td>None</td>\n",
       "        </tr>\n",
       "        <tr>\n",
       "            <td>ABW</td>\n",
       "            <td>Aruba</td>\n",
       "            <td>Latin America &amp; Caribbean</td>\n",
       "            <td>High income</td>\n",
       "            <td>180.0</td>\n",
       "            <td>1968</td>\n",
       "            <td>0.06</td>\n",
       "            <td>None</td>\n",
       "            <td>68.4</td>\n",
       "            <td>None</td>\n",
       "            <td>None</td>\n",
       "            <td>None</td>\n",
       "        </tr>\n",
       "        <tr>\n",
       "            <td>ABW</td>\n",
       "            <td>Aruba</td>\n",
       "            <td>Latin America &amp; Caribbean</td>\n",
       "            <td>High income</td>\n",
       "            <td>180.0</td>\n",
       "            <td>1969</td>\n",
       "            <td>0.06</td>\n",
       "            <td>None</td>\n",
       "            <td>68.8</td>\n",
       "            <td>None</td>\n",
       "            <td>None</td>\n",
       "            <td>None</td>\n",
       "        </tr>\n",
       "    </tbody>\n",
       "</table>"
      ],
      "text/plain": [
       "[('ABW', 'Aruba', 'Latin America & Caribbean', 'High income', 180.0, 1960, 0.05, None, 65.7, 0.0, None, None),\n",
       " ('ABW', 'Aruba', 'Latin America & Caribbean', 'High income', 180.0, 1961, 0.06, None, 66.1, None, None, None),\n",
       " ('ABW', 'Aruba', 'Latin America & Caribbean', 'High income', 180.0, 1962, 0.06, None, 66.4, None, None, None),\n",
       " ('ABW', 'Aruba', 'Latin America & Caribbean', 'High income', 180.0, 1963, 0.06, None, 66.8, None, None, None),\n",
       " ('ABW', 'Aruba', 'Latin America & Caribbean', 'High income', 180.0, 1964, 0.06, None, 67.1, None, None, None),\n",
       " ('ABW', 'Aruba', 'Latin America & Caribbean', 'High income', 180.0, 1965, 0.06, None, 67.4, 0.0, None, None),\n",
       " ('ABW', 'Aruba', 'Latin America & Caribbean', 'High income', 180.0, 1966, 0.06, None, 67.8, None, None, None),\n",
       " ('ABW', 'Aruba', 'Latin America & Caribbean', 'High income', 180.0, 1967, 0.06, None, 68.1, None, None, None),\n",
       " ('ABW', 'Aruba', 'Latin America & Caribbean', 'High income', 180.0, 1968, 0.06, None, 68.4, None, None, None),\n",
       " ('ABW', 'Aruba', 'Latin America & Caribbean', 'High income', 180.0, 1969, 0.06, None, 68.8, None, None, None)]"
      ]
     },
     "execution_count": 22,
     "metadata": {},
     "output_type": "execute_result"
    }
   ],
   "source": [
    "%%sql\n",
    "-- left join\n",
    "SELECT * FROM countries\n",
    "LEFT JOIN indicators USING(code)\n",
    "LIMIT 10"
   ]
  },
  {
   "cell_type": "code",
   "execution_count": 28,
   "id": "8cfe9291",
   "metadata": {},
   "outputs": [
    {
     "name": "stdout",
     "output_type": "stream",
     "text": [
      " * sqlite:///C:\\Users\\bilene\\book.db\n",
      "Done.\n"
     ]
    },
    {
     "data": {
      "text/html": [
       "<table>\n",
       "    <thead>\n",
       "        <tr>\n",
       "            <th>code</th>\n",
       "            <th>country</th>\n",
       "            <th>region</th>\n",
       "            <th>income</th>\n",
       "            <th>land</th>\n",
       "            <th>year</th>\n",
       "            <th>pop</th>\n",
       "            <th>gdp</th>\n",
       "            <th>life</th>\n",
       "            <th>cell</th>\n",
       "            <th>imports</th>\n",
       "            <th>exports</th>\n",
       "        </tr>\n",
       "    </thead>\n",
       "    <tbody>\n",
       "        <tr>\n",
       "            <td>PSE</td>\n",
       "            <td>West Bank and Gaza</td>\n",
       "            <td>Middle East &amp; North Africa</td>\n",
       "            <td>Lower middle income</td>\n",
       "            <td>6020.0</td>\n",
       "            <td>1960</td>\n",
       "            <td>None</td>\n",
       "            <td>None</td>\n",
       "            <td>None</td>\n",
       "            <td>None</td>\n",
       "            <td>None</td>\n",
       "            <td>None</td>\n",
       "        </tr>\n",
       "        <tr>\n",
       "            <td>SRB</td>\n",
       "            <td>Serbia</td>\n",
       "            <td>Europe &amp; Central Asia</td>\n",
       "            <td>Upper middle income</td>\n",
       "            <td>87460.0</td>\n",
       "            <td>1960</td>\n",
       "            <td>None</td>\n",
       "            <td>None</td>\n",
       "            <td>None</td>\n",
       "            <td>None</td>\n",
       "            <td>None</td>\n",
       "            <td>None</td>\n",
       "        </tr>\n",
       "        <tr>\n",
       "            <td>SXM</td>\n",
       "            <td>Sint Maarten (Dutch part)</td>\n",
       "            <td>Latin America &amp; Caribbean</td>\n",
       "            <td>High income</td>\n",
       "            <td>None</td>\n",
       "            <td>1960</td>\n",
       "            <td>None</td>\n",
       "            <td>None</td>\n",
       "            <td>None</td>\n",
       "            <td>None</td>\n",
       "            <td>None</td>\n",
       "            <td>None</td>\n",
       "        </tr>\n",
       "    </tbody>\n",
       "</table>"
      ],
      "text/plain": [
       "[('PSE', 'West Bank and Gaza', 'Middle East & North Africa', 'Lower middle income', 6020.0, 1960, None, None, None, None, None, None),\n",
       " ('SRB', 'Serbia', 'Europe & Central Asia', 'Upper middle income', 87460.0, 1960, None, None, None, None, None, None),\n",
       " ('SXM', 'Sint Maarten (Dutch part)', 'Latin America & Caribbean', 'High income', None, 1960, None, None, None, None, None, None)]"
      ]
     },
     "execution_count": 28,
     "metadata": {},
     "output_type": "execute_result"
    }
   ],
   "source": [
    "%%sql\n",
    "-- return countries that exist in countries table\n",
    "-- but not in indicators\n",
    "SELECT * FROM countries\n",
    "LEFT JOIN indicators USING(code)\n",
    "GROUP BY code\n",
    "HAVING pop IS NULL"
   ]
  },
  {
   "cell_type": "code",
   "execution_count": 30,
   "id": "98a690e3",
   "metadata": {},
   "outputs": [
    {
     "name": "stdout",
     "output_type": "stream",
     "text": [
      " * sqlite:///C:\\Users\\bilene\\book.db\n",
      "Done.\n"
     ]
    },
    {
     "data": {
      "text/html": [
       "<table>\n",
       "    <thead>\n",
       "        <tr>\n",
       "            <th>year</th>\n",
       "            <th>code</th>\n",
       "            <th>pop</th>\n",
       "            <th>gdp</th>\n",
       "            <th>life</th>\n",
       "            <th>cell</th>\n",
       "            <th>imports</th>\n",
       "            <th>exports</th>\n",
       "            <th>country</th>\n",
       "            <th>region</th>\n",
       "            <th>income</th>\n",
       "            <th>land</th>\n",
       "        </tr>\n",
       "    </thead>\n",
       "    <tbody>\n",
       "        <tr>\n",
       "            <td>1960</td>\n",
       "            <td>INX</td>\n",
       "            <td>None</td>\n",
       "            <td>None</td>\n",
       "            <td>None</td>\n",
       "            <td>None</td>\n",
       "            <td>None</td>\n",
       "            <td>None</td>\n",
       "            <td>None</td>\n",
       "            <td>None</td>\n",
       "            <td>None</td>\n",
       "            <td>None</td>\n",
       "        </tr>\n",
       "    </tbody>\n",
       "</table>"
      ],
      "text/plain": [
       "[(1960, 'INX', None, None, None, None, None, None, None, None, None, None)]"
      ]
     },
     "execution_count": 30,
     "metadata": {},
     "output_type": "execute_result"
    }
   ],
   "source": [
    "%%sql\n",
    "-- now the reverse, \n",
    "-- return countries that exist in indicators table\n",
    "-- but not in countries\n",
    "SELECT * FROM indicators\n",
    "LEFT JOIN countries USING(code)\n",
    "GROUP BY code\n",
    "HAVING income IS NULL"
   ]
  },
  {
   "cell_type": "code",
   "execution_count": 42,
   "id": "0597a5d0",
   "metadata": {},
   "outputs": [
    {
     "name": "stdout",
     "output_type": "stream",
     "text": [
      " * sqlite:///C:\\Users\\bilene\\book.db\n",
      "Done.\n",
      "Returning data to local variable output\n"
     ]
    }
   ],
   "source": [
    "%%sql\n",
    "output << SELECT * FROM indicators\n",
    "LEFT JOIN countries USING(code)\n",
    "UNION\n",
    "SELECT * FROM countries\n",
    "LEFT JOIN indicators USING(code)"
   ]
  },
  {
   "cell_type": "code",
   "execution_count": 43,
   "id": "14486e00",
   "metadata": {},
   "outputs": [
    {
     "data": {
      "text/html": [
       "<div>\n",
       "<style scoped>\n",
       "    .dataframe tbody tr th:only-of-type {\n",
       "        vertical-align: middle;\n",
       "    }\n",
       "\n",
       "    .dataframe tbody tr th {\n",
       "        vertical-align: top;\n",
       "    }\n",
       "\n",
       "    .dataframe thead th {\n",
       "        text-align: right;\n",
       "    }\n",
       "</style>\n",
       "<table border=\"1\" class=\"dataframe\">\n",
       "  <thead>\n",
       "    <tr style=\"text-align: right;\">\n",
       "      <th></th>\n",
       "      <th>0</th>\n",
       "      <th>1</th>\n",
       "      <th>2</th>\n",
       "      <th>3</th>\n",
       "      <th>4</th>\n",
       "      <th>5</th>\n",
       "      <th>6</th>\n",
       "      <th>7</th>\n",
       "      <th>8</th>\n",
       "      <th>9</th>\n",
       "      <th>10</th>\n",
       "      <th>11</th>\n",
       "    </tr>\n",
       "  </thead>\n",
       "  <tbody>\n",
       "    <tr>\n",
       "      <th>0</th>\n",
       "      <td>1960</td>\n",
       "      <td>ABW</td>\n",
       "      <td>0.05</td>\n",
       "      <td>None</td>\n",
       "      <td>65.7</td>\n",
       "      <td>0.0</td>\n",
       "      <td>NaN</td>\n",
       "      <td>NaN</td>\n",
       "      <td>Aruba</td>\n",
       "      <td>Latin America &amp; Caribbean</td>\n",
       "      <td>High income</td>\n",
       "      <td>180.00</td>\n",
       "    </tr>\n",
       "    <tr>\n",
       "      <th>1</th>\n",
       "      <td>1960</td>\n",
       "      <td>AFG</td>\n",
       "      <td>9.0</td>\n",
       "      <td>0.54</td>\n",
       "      <td>32.3</td>\n",
       "      <td>0.0</td>\n",
       "      <td>NaN</td>\n",
       "      <td>49.90</td>\n",
       "      <td>Afghanistan</td>\n",
       "      <td>South Asia</td>\n",
       "      <td>Low income</td>\n",
       "      <td>652860.00</td>\n",
       "    </tr>\n",
       "    <tr>\n",
       "      <th>2</th>\n",
       "      <td>1960</td>\n",
       "      <td>AGO</td>\n",
       "      <td>5.45</td>\n",
       "      <td>None</td>\n",
       "      <td>33.3</td>\n",
       "      <td>0.0</td>\n",
       "      <td>127.50</td>\n",
       "      <td>123.30</td>\n",
       "      <td>Angola</td>\n",
       "      <td>Sub-Saharan Africa</td>\n",
       "      <td>Lower middle income</td>\n",
       "      <td>1246700.00</td>\n",
       "    </tr>\n",
       "    <tr>\n",
       "      <th>3</th>\n",
       "      <td>1960</td>\n",
       "      <td>ALB</td>\n",
       "      <td>1.61</td>\n",
       "      <td>None</td>\n",
       "      <td>62.3</td>\n",
       "      <td>0.0</td>\n",
       "      <td>NaN</td>\n",
       "      <td>NaN</td>\n",
       "      <td>Albania</td>\n",
       "      <td>Europe &amp; Central Asia</td>\n",
       "      <td>Upper middle income</td>\n",
       "      <td>27400.00</td>\n",
       "    </tr>\n",
       "    <tr>\n",
       "      <th>4</th>\n",
       "      <td>1960</td>\n",
       "      <td>AND</td>\n",
       "      <td>0.01</td>\n",
       "      <td>None</td>\n",
       "      <td>NaN</td>\n",
       "      <td>0.0</td>\n",
       "      <td>NaN</td>\n",
       "      <td>NaN</td>\n",
       "      <td>Andorra</td>\n",
       "      <td>Europe &amp; Central Asia</td>\n",
       "      <td>High income</td>\n",
       "      <td>470.00</td>\n",
       "    </tr>\n",
       "    <tr>\n",
       "      <th>...</th>\n",
       "      <td>...</td>\n",
       "      <td>...</td>\n",
       "      <td>...</td>\n",
       "      <td>...</td>\n",
       "      <td>...</td>\n",
       "      <td>...</td>\n",
       "      <td>...</td>\n",
       "      <td>...</td>\n",
       "      <td>...</td>\n",
       "      <td>...</td>\n",
       "      <td>...</td>\n",
       "      <td>...</td>\n",
       "    </tr>\n",
       "    <tr>\n",
       "      <th>25660</th>\n",
       "      <td>ZWE</td>\n",
       "      <td>Zimbabwe</td>\n",
       "      <td>Sub-Saharan Africa</td>\n",
       "      <td>Lower middle income</td>\n",
       "      <td>386850.0</td>\n",
       "      <td>2014.0</td>\n",
       "      <td>13.59</td>\n",
       "      <td>19.50</td>\n",
       "      <td>59.4</td>\n",
       "      <td>11.8</td>\n",
       "      <td>5103.7</td>\n",
       "      <td>3062.01</td>\n",
       "    </tr>\n",
       "    <tr>\n",
       "      <th>25661</th>\n",
       "      <td>ZWE</td>\n",
       "      <td>Zimbabwe</td>\n",
       "      <td>Sub-Saharan Africa</td>\n",
       "      <td>Lower middle income</td>\n",
       "      <td>386850.0</td>\n",
       "      <td>2015.0</td>\n",
       "      <td>13.81</td>\n",
       "      <td>19.96</td>\n",
       "      <td>60.4</td>\n",
       "      <td>12.76</td>\n",
       "      <td>4939.58</td>\n",
       "      <td>2679.52</td>\n",
       "    </tr>\n",
       "    <tr>\n",
       "      <th>25662</th>\n",
       "      <td>ZWE</td>\n",
       "      <td>Zimbabwe</td>\n",
       "      <td>Sub-Saharan Africa</td>\n",
       "      <td>Lower middle income</td>\n",
       "      <td>386850.0</td>\n",
       "      <td>2016.0</td>\n",
       "      <td>14.03</td>\n",
       "      <td>20.55</td>\n",
       "      <td>61.2</td>\n",
       "      <td>12.88</td>\n",
       "      <td>4500.6</td>\n",
       "      <td>2832.47</td>\n",
       "    </tr>\n",
       "    <tr>\n",
       "      <th>25663</th>\n",
       "      <td>ZWE</td>\n",
       "      <td>Zimbabwe</td>\n",
       "      <td>Sub-Saharan Africa</td>\n",
       "      <td>Lower middle income</td>\n",
       "      <td>386850.0</td>\n",
       "      <td>2017.0</td>\n",
       "      <td>14.24</td>\n",
       "      <td>22.81</td>\n",
       "      <td>61.7</td>\n",
       "      <td>14.09</td>\n",
       "      <td>4722.66</td>\n",
       "      <td>1505.94</td>\n",
       "    </tr>\n",
       "    <tr>\n",
       "      <th>25664</th>\n",
       "      <td>ZWE</td>\n",
       "      <td>Zimbabwe</td>\n",
       "      <td>Sub-Saharan Africa</td>\n",
       "      <td>Lower middle income</td>\n",
       "      <td>386850.0</td>\n",
       "      <td>2018.0</td>\n",
       "      <td>14.44</td>\n",
       "      <td>31.00</td>\n",
       "      <td>None</td>\n",
       "      <td>None</td>\n",
       "      <td>None</td>\n",
       "      <td>NaN</td>\n",
       "    </tr>\n",
       "  </tbody>\n",
       "</table>\n",
       "<p>25665 rows × 12 columns</p>\n",
       "</div>"
      ],
      "text/plain": [
       "         0         1                   2                    3         4   \\\n",
       "0      1960       ABW                0.05                 None      65.7   \n",
       "1      1960       AFG                 9.0                 0.54      32.3   \n",
       "2      1960       AGO                5.45                 None      33.3   \n",
       "3      1960       ALB                1.61                 None      62.3   \n",
       "4      1960       AND                0.01                 None       NaN   \n",
       "...     ...       ...                 ...                  ...       ...   \n",
       "25660   ZWE  Zimbabwe  Sub-Saharan Africa  Lower middle income  386850.0   \n",
       "25661   ZWE  Zimbabwe  Sub-Saharan Africa  Lower middle income  386850.0   \n",
       "25662   ZWE  Zimbabwe  Sub-Saharan Africa  Lower middle income  386850.0   \n",
       "25663   ZWE  Zimbabwe  Sub-Saharan Africa  Lower middle income  386850.0   \n",
       "25664   ZWE  Zimbabwe  Sub-Saharan Africa  Lower middle income  386850.0   \n",
       "\n",
       "           5       6       7            8                          9   \\\n",
       "0         0.0     NaN     NaN        Aruba  Latin America & Caribbean   \n",
       "1         0.0     NaN   49.90  Afghanistan                 South Asia   \n",
       "2         0.0  127.50  123.30       Angola         Sub-Saharan Africa   \n",
       "3         0.0     NaN     NaN      Albania      Europe & Central Asia   \n",
       "4         0.0     NaN     NaN      Andorra      Europe & Central Asia   \n",
       "...       ...     ...     ...          ...                        ...   \n",
       "25660  2014.0   13.59   19.50         59.4                       11.8   \n",
       "25661  2015.0   13.81   19.96         60.4                      12.76   \n",
       "25662  2016.0   14.03   20.55         61.2                      12.88   \n",
       "25663  2017.0   14.24   22.81         61.7                      14.09   \n",
       "25664  2018.0   14.44   31.00         None                       None   \n",
       "\n",
       "                        10          11  \n",
       "0              High income      180.00  \n",
       "1               Low income   652860.00  \n",
       "2      Lower middle income  1246700.00  \n",
       "3      Upper middle income    27400.00  \n",
       "4              High income      470.00  \n",
       "...                    ...         ...  \n",
       "25660               5103.7     3062.01  \n",
       "25661              4939.58     2679.52  \n",
       "25662               4500.6     2832.47  \n",
       "25663              4722.66     1505.94  \n",
       "25664                 None         NaN  \n",
       "\n",
       "[25665 rows x 12 columns]"
      ]
     },
     "execution_count": 43,
     "metadata": {},
     "output_type": "execute_result"
    }
   ],
   "source": [
    "import pandas as pd\n",
    "pd.DataFrame(output)"
   ]
  },
  {
   "cell_type": "code",
   "execution_count": 3,
   "id": "005b6f08",
   "metadata": {},
   "outputs": [
    {
     "name": "stdout",
     "output_type": "stream",
     "text": [
      "Defaulting to user installation because normal site-packages is not writeable\n",
      "Requirement already satisfied: sqlalchemy in c:\\users\\bilene.fas.000\\appdata\\roaming\\python\\python39\\site-packages (2.0.8)\n",
      "Requirement already satisfied: typing-extensions>=4.2.0 in c:\\users\\bilene.fas.000\\appdata\\roaming\\python\\python39\\site-packages (from sqlalchemy) (4.5.0)\n",
      "Requirement already satisfied: greenlet!=0.4.17 in c:\\users\\bilene.fas.000\\appdata\\roaming\\python\\python39\\site-packages (from sqlalchemy) (2.0.2)\n"
     ]
    }
   ],
   "source": [
    "# install sqlalchemy\n",
    "! pip install sqlalchemy"
   ]
  },
  {
   "cell_type": "code",
   "execution_count": 7,
   "id": "d097f414",
   "metadata": {},
   "outputs": [
    {
     "ename": "ObjectNotExecutableError",
     "evalue": "Not an executable object: 'SELECT * FROM indicators0'",
     "output_type": "error",
     "traceback": [
      "\u001b[1;31m---------------------------------------------------------------------------\u001b[0m",
      "\u001b[1;31mAttributeError\u001b[0m                            Traceback (most recent call last)",
      "\u001b[1;32m~\\AppData\\Roaming\\Python\\Python39\\site-packages\\sqlalchemy\\engine\\base.py\u001b[0m in \u001b[0;36mexecute\u001b[1;34m(self, statement, parameters, execution_options)\u001b[0m\n\u001b[0;32m   1409\u001b[0m         \u001b[1;32mtry\u001b[0m\u001b[1;33m:\u001b[0m\u001b[1;33m\u001b[0m\u001b[1;33m\u001b[0m\u001b[0m\n\u001b[1;32m-> 1410\u001b[1;33m             \u001b[0mmeth\u001b[0m \u001b[1;33m=\u001b[0m \u001b[0mstatement\u001b[0m\u001b[1;33m.\u001b[0m\u001b[0m_execute_on_connection\u001b[0m\u001b[1;33m\u001b[0m\u001b[1;33m\u001b[0m\u001b[0m\n\u001b[0m\u001b[0;32m   1411\u001b[0m         \u001b[1;32mexcept\u001b[0m \u001b[0mAttributeError\u001b[0m \u001b[1;32mas\u001b[0m \u001b[0merr\u001b[0m\u001b[1;33m:\u001b[0m\u001b[1;33m\u001b[0m\u001b[1;33m\u001b[0m\u001b[0m\n",
      "\u001b[1;31mAttributeError\u001b[0m: 'str' object has no attribute '_execute_on_connection'",
      "\nThe above exception was the direct cause of the following exception:\n",
      "\u001b[1;31mObjectNotExecutableError\u001b[0m                  Traceback (most recent call last)",
      "\u001b[1;32m<ipython-input-7-8256a3256c5e>\u001b[0m in \u001b[0;36m<module>\u001b[1;34m\u001b[0m\n\u001b[0;32m      6\u001b[0m \u001b[0mquery\u001b[0m \u001b[1;33m=\u001b[0m \u001b[1;34m'SELECT * FROM indicators0'\u001b[0m\u001b[1;33m\u001b[0m\u001b[1;33m\u001b[0m\u001b[0m\n\u001b[0;32m      7\u001b[0m \u001b[1;31m# execute query\u001b[0m\u001b[1;33m\u001b[0m\u001b[1;33m\u001b[0m\u001b[0m\n\u001b[1;32m----> 8\u001b[1;33m \u001b[0mresult_proxy\u001b[0m \u001b[1;33m=\u001b[0m \u001b[0mconnection\u001b[0m\u001b[1;33m.\u001b[0m\u001b[0mexecute\u001b[0m\u001b[1;33m(\u001b[0m\u001b[0mquery\u001b[0m\u001b[1;33m)\u001b[0m\u001b[1;33m\u001b[0m\u001b[1;33m\u001b[0m\u001b[0m\n\u001b[0m\u001b[0;32m      9\u001b[0m \u001b[1;31m# convert it into table\u001b[0m\u001b[1;33m\u001b[0m\u001b[1;33m\u001b[0m\u001b[0m\n\u001b[0;32m     10\u001b[0m \u001b[0mresults_all\u001b[0m \u001b[1;33m=\u001b[0m \u001b[0mresult_proxy\u001b[0m\u001b[1;33m.\u001b[0m\u001b[0mfetchall\u001b[0m\u001b[1;33m(\u001b[0m\u001b[1;33m)\u001b[0m\u001b[1;33m\u001b[0m\u001b[1;33m\u001b[0m\u001b[0m\n",
      "\u001b[1;32m~\\AppData\\Roaming\\Python\\Python39\\site-packages\\sqlalchemy\\engine\\base.py\u001b[0m in \u001b[0;36mexecute\u001b[1;34m(self, statement, parameters, execution_options)\u001b[0m\n\u001b[0;32m   1410\u001b[0m             \u001b[0mmeth\u001b[0m \u001b[1;33m=\u001b[0m \u001b[0mstatement\u001b[0m\u001b[1;33m.\u001b[0m\u001b[0m_execute_on_connection\u001b[0m\u001b[1;33m\u001b[0m\u001b[1;33m\u001b[0m\u001b[0m\n\u001b[0;32m   1411\u001b[0m         \u001b[1;32mexcept\u001b[0m \u001b[0mAttributeError\u001b[0m \u001b[1;32mas\u001b[0m \u001b[0merr\u001b[0m\u001b[1;33m:\u001b[0m\u001b[1;33m\u001b[0m\u001b[1;33m\u001b[0m\u001b[0m\n\u001b[1;32m-> 1412\u001b[1;33m             \u001b[1;32mraise\u001b[0m \u001b[0mexc\u001b[0m\u001b[1;33m.\u001b[0m\u001b[0mObjectNotExecutableError\u001b[0m\u001b[1;33m(\u001b[0m\u001b[0mstatement\u001b[0m\u001b[1;33m)\u001b[0m \u001b[1;32mfrom\u001b[0m \u001b[0merr\u001b[0m\u001b[1;33m\u001b[0m\u001b[1;33m\u001b[0m\u001b[0m\n\u001b[0m\u001b[0;32m   1413\u001b[0m         \u001b[1;32melse\u001b[0m\u001b[1;33m:\u001b[0m\u001b[1;33m\u001b[0m\u001b[1;33m\u001b[0m\u001b[0m\n\u001b[0;32m   1414\u001b[0m             return meth(\n",
      "\u001b[1;31mObjectNotExecutableError\u001b[0m: Not an executable object: 'SELECT * FROM indicators0'"
     ]
    }
   ],
   "source": [
    "import sqlalchemy as sa\n",
    "# create engine connection to local database\n",
    "engine = sa.create_engine(r'sqlite+pysqlite:///C:\\Users\\bilene\\book.db')\n",
    "connection = engine.connect()\n",
    "# create query\n",
    "query = 'SELECT * FROM indicators0'\n",
    "# execute query\n",
    "result_proxy = connection.execute(query)\n",
    "# convert it into table\n",
    "results_all = result_proxy.fetchall()"
   ]
  },
  {
   "cell_type": "code",
   "execution_count": null,
   "id": "5c33768b",
   "metadata": {},
   "outputs": [],
   "source": [
    "results_all # does not have the column names\n",
    "# if you wanted to get the col names you'd need to do\n",
    "result_proxy.keys() # returns the original table columns\n",
    "pd.DataFrame(results_all,columns=result_proxy.keys())\n"
   ]
  },
  {
   "cell_type": "code",
   "execution_count": 10,
   "id": "30d0e7b2",
   "metadata": {},
   "outputs": [
    {
     "ename": "TypeError",
     "evalue": "__init__() got multiple values for argument 'schema'",
     "output_type": "error",
     "traceback": [
      "\u001b[1;31m---------------------------------------------------------------------------\u001b[0m",
      "\u001b[1;31mTypeError\u001b[0m                                 Traceback (most recent call last)",
      "\u001b[1;32m<ipython-input-10-0b5523433a4f>\u001b[0m in \u001b[0;36m<module>\u001b[1;34m\u001b[0m\n\u001b[1;32m----> 1\u001b[1;33m \u001b[0mpd\u001b[0m\u001b[1;33m.\u001b[0m\u001b[0mread_sql_table\u001b[0m\u001b[1;33m(\u001b[0m\u001b[1;34m'indicators0'\u001b[0m\u001b[1;33m,\u001b[0m \u001b[0mcon\u001b[0m \u001b[1;33m=\u001b[0m \u001b[0mconnection\u001b[0m\u001b[1;33m)\u001b[0m\u001b[1;33m\u001b[0m\u001b[1;33m\u001b[0m\u001b[0m\n\u001b[0m",
      "\u001b[1;32mC:\\Program Files\\ArcGIS\\Pro\\bin\\Python\\envs\\arcgispro-py3\\lib\\site-packages\\pandas\\io\\sql.py\u001b[0m in \u001b[0;36mread_sql_table\u001b[1;34m(table_name, con, schema, index_col, coerce_float, parse_dates, columns, chunksize)\u001b[0m\n\u001b[0;32m    316\u001b[0m     \u001b[1;32mfrom\u001b[0m \u001b[0msqlalchemy\u001b[0m\u001b[1;33m.\u001b[0m\u001b[0mschema\u001b[0m \u001b[1;32mimport\u001b[0m \u001b[0mMetaData\u001b[0m\u001b[1;33m\u001b[0m\u001b[1;33m\u001b[0m\u001b[0m\n\u001b[0;32m    317\u001b[0m \u001b[1;33m\u001b[0m\u001b[0m\n\u001b[1;32m--> 318\u001b[1;33m     \u001b[0mmeta\u001b[0m \u001b[1;33m=\u001b[0m \u001b[0mMetaData\u001b[0m\u001b[1;33m(\u001b[0m\u001b[0mcon\u001b[0m\u001b[1;33m,\u001b[0m \u001b[0mschema\u001b[0m\u001b[1;33m=\u001b[0m\u001b[0mschema\u001b[0m\u001b[1;33m)\u001b[0m\u001b[1;33m\u001b[0m\u001b[1;33m\u001b[0m\u001b[0m\n\u001b[0m\u001b[0;32m    319\u001b[0m     \u001b[1;32mtry\u001b[0m\u001b[1;33m:\u001b[0m\u001b[1;33m\u001b[0m\u001b[1;33m\u001b[0m\u001b[0m\n\u001b[0;32m    320\u001b[0m         \u001b[0mmeta\u001b[0m\u001b[1;33m.\u001b[0m\u001b[0mreflect\u001b[0m\u001b[1;33m(\u001b[0m\u001b[0monly\u001b[0m\u001b[1;33m=\u001b[0m\u001b[1;33m[\u001b[0m\u001b[0mtable_name\u001b[0m\u001b[1;33m]\u001b[0m\u001b[1;33m,\u001b[0m \u001b[0mviews\u001b[0m\u001b[1;33m=\u001b[0m\u001b[1;32mTrue\u001b[0m\u001b[1;33m)\u001b[0m\u001b[1;33m\u001b[0m\u001b[1;33m\u001b[0m\u001b[0m\n",
      "\u001b[1;31mTypeError\u001b[0m: __init__() got multiple values for argument 'schema'"
     ]
    }
   ],
   "source": [
    "pd.read_sql_table('indicators0', con = connection) # reads the table nicely"
   ]
  },
  {
   "cell_type": "code",
   "execution_count": 18,
   "id": "ec3dea4f",
   "metadata": {},
   "outputs": [
    {
     "ename": "TypeError",
     "evalue": "__init__() got multiple values for argument 'schema'",
     "output_type": "error",
     "traceback": [
      "\u001b[1;31m---------------------------------------------------------------------------\u001b[0m",
      "\u001b[1;31mTypeError\u001b[0m                                 Traceback (most recent call last)",
      "\u001b[1;32m<ipython-input-18-d15132fe60ac>\u001b[0m in \u001b[0;36m<module>\u001b[1;34m\u001b[0m\n\u001b[0;32m      4\u001b[0m '''\n\u001b[0;32m      5\u001b[0m \u001b[1;33m\u001b[0m\u001b[0m\n\u001b[1;32m----> 6\u001b[1;33m \u001b[0mout\u001b[0m \u001b[1;33m=\u001b[0m \u001b[0mpd\u001b[0m\u001b[1;33m.\u001b[0m\u001b[0mread_sql_query\u001b[0m\u001b[1;33m(\u001b[0m\u001b[0mquery\u001b[0m\u001b[1;33m,\u001b[0m \u001b[0mcon\u001b[0m\u001b[1;33m=\u001b[0m\u001b[0mconnection\u001b[0m\u001b[1;33m)\u001b[0m \u001b[1;31m# executes the query\u001b[0m\u001b[1;33m\u001b[0m\u001b[1;33m\u001b[0m\u001b[0m\n\u001b[0m\u001b[0;32m      7\u001b[0m \u001b[0mout\u001b[0m\u001b[1;33m\u001b[0m\u001b[1;33m\u001b[0m\u001b[0m\n",
      "\u001b[1;32mC:\\Program Files\\ArcGIS\\Pro\\bin\\Python\\envs\\arcgispro-py3\\lib\\site-packages\\pandas\\io\\sql.py\u001b[0m in \u001b[0;36mread_sql_query\u001b[1;34m(sql, con, index_col, coerce_float, params, parse_dates, chunksize, dtype)\u001b[0m\n\u001b[0;32m    433\u001b[0m     \u001b[0mparameter\u001b[0m \u001b[0mwill\u001b[0m \u001b[0mbe\u001b[0m \u001b[0mconverted\u001b[0m \u001b[0mto\u001b[0m \u001b[0mUTC\u001b[0m\u001b[1;33m.\u001b[0m\u001b[1;33m\u001b[0m\u001b[1;33m\u001b[0m\u001b[0m\n\u001b[0;32m    434\u001b[0m     \"\"\"\n\u001b[1;32m--> 435\u001b[1;33m     \u001b[0mpandas_sql\u001b[0m \u001b[1;33m=\u001b[0m \u001b[0mpandasSQL_builder\u001b[0m\u001b[1;33m(\u001b[0m\u001b[0mcon\u001b[0m\u001b[1;33m)\u001b[0m\u001b[1;33m\u001b[0m\u001b[1;33m\u001b[0m\u001b[0m\n\u001b[0m\u001b[0;32m    436\u001b[0m     return pandas_sql.read_query(\n\u001b[0;32m    437\u001b[0m         \u001b[0msql\u001b[0m\u001b[1;33m,\u001b[0m\u001b[1;33m\u001b[0m\u001b[1;33m\u001b[0m\u001b[0m\n",
      "\u001b[1;32mC:\\Program Files\\ArcGIS\\Pro\\bin\\Python\\envs\\arcgispro-py3\\lib\\site-packages\\pandas\\io\\sql.py\u001b[0m in \u001b[0;36mpandasSQL_builder\u001b[1;34m(con, schema, meta, is_cursor)\u001b[0m\n\u001b[0;32m    786\u001b[0m     \u001b[0mcon\u001b[0m \u001b[1;33m=\u001b[0m \u001b[0m_engine_builder\u001b[0m\u001b[1;33m(\u001b[0m\u001b[0mcon\u001b[0m\u001b[1;33m)\u001b[0m\u001b[1;33m\u001b[0m\u001b[1;33m\u001b[0m\u001b[0m\n\u001b[0;32m    787\u001b[0m     \u001b[1;32mif\u001b[0m \u001b[0m_is_sqlalchemy_connectable\u001b[0m\u001b[1;33m(\u001b[0m\u001b[0mcon\u001b[0m\u001b[1;33m)\u001b[0m\u001b[1;33m:\u001b[0m\u001b[1;33m\u001b[0m\u001b[1;33m\u001b[0m\u001b[0m\n\u001b[1;32m--> 788\u001b[1;33m         \u001b[1;32mreturn\u001b[0m \u001b[0mSQLDatabase\u001b[0m\u001b[1;33m(\u001b[0m\u001b[0mcon\u001b[0m\u001b[1;33m,\u001b[0m \u001b[0mschema\u001b[0m\u001b[1;33m=\u001b[0m\u001b[0mschema\u001b[0m\u001b[1;33m,\u001b[0m \u001b[0mmeta\u001b[0m\u001b[1;33m=\u001b[0m\u001b[0mmeta\u001b[0m\u001b[1;33m)\u001b[0m\u001b[1;33m\u001b[0m\u001b[1;33m\u001b[0m\u001b[0m\n\u001b[0m\u001b[0;32m    789\u001b[0m     \u001b[1;32melif\u001b[0m \u001b[0misinstance\u001b[0m\u001b[1;33m(\u001b[0m\u001b[0mcon\u001b[0m\u001b[1;33m,\u001b[0m \u001b[0mstr\u001b[0m\u001b[1;33m)\u001b[0m\u001b[1;33m:\u001b[0m\u001b[1;33m\u001b[0m\u001b[1;33m\u001b[0m\u001b[0m\n\u001b[0;32m    790\u001b[0m         \u001b[1;32mraise\u001b[0m \u001b[0mImportError\u001b[0m\u001b[1;33m(\u001b[0m\u001b[1;34m\"Using URI string without sqlalchemy installed.\"\u001b[0m\u001b[1;33m)\u001b[0m\u001b[1;33m\u001b[0m\u001b[1;33m\u001b[0m\u001b[0m\n",
      "\u001b[1;32mC:\\Program Files\\ArcGIS\\Pro\\bin\\Python\\envs\\arcgispro-py3\\lib\\site-packages\\pandas\\io\\sql.py\u001b[0m in \u001b[0;36m__init__\u001b[1;34m(self, engine, schema, meta)\u001b[0m\n\u001b[0;32m   1408\u001b[0m             \u001b[1;32mfrom\u001b[0m \u001b[0msqlalchemy\u001b[0m\u001b[1;33m.\u001b[0m\u001b[0mschema\u001b[0m \u001b[1;32mimport\u001b[0m \u001b[0mMetaData\u001b[0m\u001b[1;33m\u001b[0m\u001b[1;33m\u001b[0m\u001b[0m\n\u001b[0;32m   1409\u001b[0m \u001b[1;33m\u001b[0m\u001b[0m\n\u001b[1;32m-> 1410\u001b[1;33m             \u001b[0mmeta\u001b[0m \u001b[1;33m=\u001b[0m \u001b[0mMetaData\u001b[0m\u001b[1;33m(\u001b[0m\u001b[0mself\u001b[0m\u001b[1;33m.\u001b[0m\u001b[0mconnectable\u001b[0m\u001b[1;33m,\u001b[0m \u001b[0mschema\u001b[0m\u001b[1;33m=\u001b[0m\u001b[0mschema\u001b[0m\u001b[1;33m)\u001b[0m\u001b[1;33m\u001b[0m\u001b[1;33m\u001b[0m\u001b[0m\n\u001b[0m\u001b[0;32m   1411\u001b[0m \u001b[1;33m\u001b[0m\u001b[0m\n\u001b[0;32m   1412\u001b[0m         \u001b[0mself\u001b[0m\u001b[1;33m.\u001b[0m\u001b[0mmeta\u001b[0m \u001b[1;33m=\u001b[0m \u001b[0mmeta\u001b[0m\u001b[1;33m\u001b[0m\u001b[1;33m\u001b[0m\u001b[0m\n",
      "\u001b[1;31mTypeError\u001b[0m: __init__() got multiple values for argument 'schema'"
     ]
    }
   ],
   "source": [
    "query = '''\n",
    "SELECT * FROM indicators\n",
    "WHERE year=2010\n",
    "'''\n",
    "\n",
    "out = pd.read_sql_query(query, con=connection) # executes the query\n",
    "out"
   ]
  },
  {
   "cell_type": "code",
   "execution_count": 21,
   "id": "c99d318f",
   "metadata": {},
   "outputs": [],
   "source": [
    "# create a function that takes a year value from the user\n",
    "# and returns the output table indicators for the desired year\n",
    "\n",
    "def slice_year(t):\n",
    "    # create engine connection to local database\n",
    "    engine = sa.create_engine(r'sqlite+pysqlite:///C:\\Users\\bilene\\book.db')\n",
    "    connection = engine.connect()\n",
    "    # create query\n",
    "    query = '''\n",
    "    SELECT * FROM indicators\n",
    "    WHERE year={}\n",
    "    '''.format(t) # puts t inside string\n",
    "    out = pd.read_sql_query(query, con=connection) # executes the query\n",
    "    return out\n",
    "    \n",
    "    "
   ]
  },
  {
   "cell_type": "code",
   "execution_count": 22,
   "id": "dbd0f233",
   "metadata": {},
   "outputs": [
    {
     "ename": "TypeError",
     "evalue": "__init__() got multiple values for argument 'schema'",
     "output_type": "error",
     "traceback": [
      "\u001b[1;31m---------------------------------------------------------------------------\u001b[0m",
      "\u001b[1;31mTypeError\u001b[0m                                 Traceback (most recent call last)",
      "\u001b[1;32m<ipython-input-22-05da6c2c2e4e>\u001b[0m in \u001b[0;36m<module>\u001b[1;34m\u001b[0m\n\u001b[1;32m----> 1\u001b[1;33m \u001b[0mslice_year\u001b[0m\u001b[1;33m(\u001b[0m\u001b[1;36m2011\u001b[0m\u001b[1;33m)\u001b[0m\u001b[1;33m\u001b[0m\u001b[1;33m\u001b[0m\u001b[0m\n\u001b[0m",
      "\u001b[1;32m<ipython-input-21-5433f464b41f>\u001b[0m in \u001b[0;36mslice_year\u001b[1;34m(t)\u001b[0m\n\u001b[0;32m     11\u001b[0m     \u001b[0mWHERE\u001b[0m \u001b[0myear\u001b[0m\u001b[1;33m=\u001b[0m\u001b[1;33m{\u001b[0m\u001b[1;33m}\u001b[0m\u001b[1;33m\u001b[0m\u001b[1;33m\u001b[0m\u001b[0m\n\u001b[0;32m     12\u001b[0m     '''.format(t)\n\u001b[1;32m---> 13\u001b[1;33m     \u001b[0mout\u001b[0m \u001b[1;33m=\u001b[0m \u001b[0mpd\u001b[0m\u001b[1;33m.\u001b[0m\u001b[0mread_sql_query\u001b[0m\u001b[1;33m(\u001b[0m\u001b[0mquery\u001b[0m\u001b[1;33m,\u001b[0m \u001b[0mcon\u001b[0m\u001b[1;33m=\u001b[0m\u001b[0mconnection\u001b[0m\u001b[1;33m)\u001b[0m \u001b[1;31m# executes the query\u001b[0m\u001b[1;33m\u001b[0m\u001b[1;33m\u001b[0m\u001b[0m\n\u001b[0m\u001b[0;32m     14\u001b[0m     \u001b[1;32mreturn\u001b[0m \u001b[0mout\u001b[0m\u001b[1;33m\u001b[0m\u001b[1;33m\u001b[0m\u001b[0m\n\u001b[0;32m     15\u001b[0m \u001b[1;33m\u001b[0m\u001b[0m\n",
      "\u001b[1;32mC:\\Program Files\\ArcGIS\\Pro\\bin\\Python\\envs\\arcgispro-py3\\lib\\site-packages\\pandas\\io\\sql.py\u001b[0m in \u001b[0;36mread_sql_query\u001b[1;34m(sql, con, index_col, coerce_float, params, parse_dates, chunksize, dtype)\u001b[0m\n\u001b[0;32m    433\u001b[0m     \u001b[0mparameter\u001b[0m \u001b[0mwill\u001b[0m \u001b[0mbe\u001b[0m \u001b[0mconverted\u001b[0m \u001b[0mto\u001b[0m \u001b[0mUTC\u001b[0m\u001b[1;33m.\u001b[0m\u001b[1;33m\u001b[0m\u001b[1;33m\u001b[0m\u001b[0m\n\u001b[0;32m    434\u001b[0m     \"\"\"\n\u001b[1;32m--> 435\u001b[1;33m     \u001b[0mpandas_sql\u001b[0m \u001b[1;33m=\u001b[0m \u001b[0mpandasSQL_builder\u001b[0m\u001b[1;33m(\u001b[0m\u001b[0mcon\u001b[0m\u001b[1;33m)\u001b[0m\u001b[1;33m\u001b[0m\u001b[1;33m\u001b[0m\u001b[0m\n\u001b[0m\u001b[0;32m    436\u001b[0m     return pandas_sql.read_query(\n\u001b[0;32m    437\u001b[0m         \u001b[0msql\u001b[0m\u001b[1;33m,\u001b[0m\u001b[1;33m\u001b[0m\u001b[1;33m\u001b[0m\u001b[0m\n",
      "\u001b[1;32mC:\\Program Files\\ArcGIS\\Pro\\bin\\Python\\envs\\arcgispro-py3\\lib\\site-packages\\pandas\\io\\sql.py\u001b[0m in \u001b[0;36mpandasSQL_builder\u001b[1;34m(con, schema, meta, is_cursor)\u001b[0m\n\u001b[0;32m    786\u001b[0m     \u001b[0mcon\u001b[0m \u001b[1;33m=\u001b[0m \u001b[0m_engine_builder\u001b[0m\u001b[1;33m(\u001b[0m\u001b[0mcon\u001b[0m\u001b[1;33m)\u001b[0m\u001b[1;33m\u001b[0m\u001b[1;33m\u001b[0m\u001b[0m\n\u001b[0;32m    787\u001b[0m     \u001b[1;32mif\u001b[0m \u001b[0m_is_sqlalchemy_connectable\u001b[0m\u001b[1;33m(\u001b[0m\u001b[0mcon\u001b[0m\u001b[1;33m)\u001b[0m\u001b[1;33m:\u001b[0m\u001b[1;33m\u001b[0m\u001b[1;33m\u001b[0m\u001b[0m\n\u001b[1;32m--> 788\u001b[1;33m         \u001b[1;32mreturn\u001b[0m \u001b[0mSQLDatabase\u001b[0m\u001b[1;33m(\u001b[0m\u001b[0mcon\u001b[0m\u001b[1;33m,\u001b[0m \u001b[0mschema\u001b[0m\u001b[1;33m=\u001b[0m\u001b[0mschema\u001b[0m\u001b[1;33m,\u001b[0m \u001b[0mmeta\u001b[0m\u001b[1;33m=\u001b[0m\u001b[0mmeta\u001b[0m\u001b[1;33m)\u001b[0m\u001b[1;33m\u001b[0m\u001b[1;33m\u001b[0m\u001b[0m\n\u001b[0m\u001b[0;32m    789\u001b[0m     \u001b[1;32melif\u001b[0m \u001b[0misinstance\u001b[0m\u001b[1;33m(\u001b[0m\u001b[0mcon\u001b[0m\u001b[1;33m,\u001b[0m \u001b[0mstr\u001b[0m\u001b[1;33m)\u001b[0m\u001b[1;33m:\u001b[0m\u001b[1;33m\u001b[0m\u001b[1;33m\u001b[0m\u001b[0m\n\u001b[0;32m    790\u001b[0m         \u001b[1;32mraise\u001b[0m \u001b[0mImportError\u001b[0m\u001b[1;33m(\u001b[0m\u001b[1;34m\"Using URI string without sqlalchemy installed.\"\u001b[0m\u001b[1;33m)\u001b[0m\u001b[1;33m\u001b[0m\u001b[1;33m\u001b[0m\u001b[0m\n",
      "\u001b[1;32mC:\\Program Files\\ArcGIS\\Pro\\bin\\Python\\envs\\arcgispro-py3\\lib\\site-packages\\pandas\\io\\sql.py\u001b[0m in \u001b[0;36m__init__\u001b[1;34m(self, engine, schema, meta)\u001b[0m\n\u001b[0;32m   1408\u001b[0m             \u001b[1;32mfrom\u001b[0m \u001b[0msqlalchemy\u001b[0m\u001b[1;33m.\u001b[0m\u001b[0mschema\u001b[0m \u001b[1;32mimport\u001b[0m \u001b[0mMetaData\u001b[0m\u001b[1;33m\u001b[0m\u001b[1;33m\u001b[0m\u001b[0m\n\u001b[0;32m   1409\u001b[0m \u001b[1;33m\u001b[0m\u001b[0m\n\u001b[1;32m-> 1410\u001b[1;33m             \u001b[0mmeta\u001b[0m \u001b[1;33m=\u001b[0m \u001b[0mMetaData\u001b[0m\u001b[1;33m(\u001b[0m\u001b[0mself\u001b[0m\u001b[1;33m.\u001b[0m\u001b[0mconnectable\u001b[0m\u001b[1;33m,\u001b[0m \u001b[0mschema\u001b[0m\u001b[1;33m=\u001b[0m\u001b[0mschema\u001b[0m\u001b[1;33m)\u001b[0m\u001b[1;33m\u001b[0m\u001b[1;33m\u001b[0m\u001b[0m\n\u001b[0m\u001b[0;32m   1411\u001b[0m \u001b[1;33m\u001b[0m\u001b[0m\n\u001b[0;32m   1412\u001b[0m         \u001b[0mself\u001b[0m\u001b[1;33m.\u001b[0m\u001b[0mmeta\u001b[0m \u001b[1;33m=\u001b[0m \u001b[0mmeta\u001b[0m\u001b[1;33m\u001b[0m\u001b[1;33m\u001b[0m\u001b[0m\n",
      "\u001b[1;31mTypeError\u001b[0m: __init__() got multiple values for argument 'schema'"
     ]
    }
   ],
   "source": [
    "slice_year(2011)"
   ]
  },
  {
   "cell_type": "code",
   "execution_count": null,
   "id": "0743ec4f",
   "metadata": {},
   "outputs": [],
   "source": []
  }
 ],
 "metadata": {
  "kernelspec": {
   "display_name": "Python 3",
   "language": "python",
   "name": "python3"
  },
  "language_info": {
   "codemirror_mode": {
    "name": "ipython",
    "version": 3
   },
   "file_extension": ".py",
   "mimetype": "text/x-python",
   "name": "python",
   "nbconvert_exporter": "python",
   "pygments_lexer": "ipython3",
   "version": "3.9.11"
  }
 },
 "nbformat": 4,
 "nbformat_minor": 5
}
